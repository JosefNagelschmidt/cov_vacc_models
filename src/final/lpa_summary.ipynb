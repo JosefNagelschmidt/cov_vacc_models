{
 "cells": [
  {
   "cell_type": "code",
   "execution_count": 1,
   "id": "worthy-acrylic",
   "metadata": {},
   "outputs": [],
   "source": [
    "import numpy as np\n",
    "import pandas as pd\n",
    "import os\n",
    "from IPython.display import IFrame"
   ]
  },
  {
   "cell_type": "markdown",
   "id": "impressed-cabin",
   "metadata": {},
   "source": [
    "One of the goals of this small project was to conduct a latent profile analysis to identify latent subpopulations (regarding vaccination attitudes) based on various sets of variables from the LISS panel. I consider the following sets of variables, which are also specified in the files `src/model_specs/lpa_var_set_x.json`:"
   ]
  },
  {
   "cell_type": "markdown",
   "id": "defensive-automation",
   "metadata": {},
   "source": [
    "#### first set:\n",
    "- covid_vaccine_safe\n",
    "- covid_vaccine_effective\n",
    "- covid_health_concern\n",
    "- confidence_science\n",
    "- confidence_media\n",
    "- trust_gov\n",
    "- subj_effect_measures"
   ]
  },
  {
   "cell_type": "markdown",
   "id": "coated-gauge",
   "metadata": {},
   "source": [
    "#### second set:\n",
    "\n",
    "Same as first and\n",
    "\n",
    "- p_2m_infected\n",
    "- effect_mask\n",
    "- effect_wash_hands"
   ]
  },
  {
   "cell_type": "markdown",
   "id": "capable-manual",
   "metadata": {},
   "source": [
    "#### third set:\n",
    "\n",
    "Same as second plus\n",
    "\n",
    "- flu_vaccine_safe\n",
    "- flu_vaccine_effective\n",
    "- flu_health_concern"
   ]
  },
  {
   "cell_type": "markdown",
   "id": "interstate-citizenship",
   "metadata": {},
   "source": [
    "#### fourth set:\n",
    "\n",
    "Same as second plus\n",
    "\n",
    "- effect_pray\n",
    "\n"
   ]
  },
  {
   "cell_type": "markdown",
   "id": "interior-entry",
   "metadata": {},
   "source": [
    "### Short motivation\n",
    "\n",
    "- The sets try to reflect the categories from the *Vaccine Confidence Inventory* (VCI) in `Rossen, Isabel, et al. \"Accepters, fence sitters, or rejecters: Moral profiles of vaccination attitudes.\" Social Science & Medicine 224 (2019): 23-27.`, given the available variables in the LISS panel. \n",
    "- The VCI consists of five major concerns: (1) vaccines are unsafe, (2) vaccines are ineffective, (3) malevolence of government and pharmaceutical companies, (4) vaccines are unnatural/alternative remedies or healthy lifestyle is sufficient, and (5) parents should retain the right to decidewhether one's child is vaccinated.\n",
    "- Since the last category is not applicable in the LISS data, it was excluded. \n",
    "- Since there is no direct equivalent of the first four categories in our data, four different sets (above) have been calculated. For illustration purposes (no formal publication at this point), I will give a quick walkthrough through the results of the first set of variables only."
   ]
  },
  {
   "cell_type": "code",
   "execution_count": 2,
   "id": "coordinated-bouquet",
   "metadata": {},
   "outputs": [],
   "source": [
    "model_performances = pd.read_csv(os.path.abspath(\"../..\") + \"/bld/analysis/lpa_var_set_1_performance.csv\", index_col=0 )"
   ]
  },
  {
   "cell_type": "code",
   "execution_count": 3,
   "id": "ecological-fireplace",
   "metadata": {},
   "outputs": [
    {
     "data": {
      "text/html": [
       "<div>\n",
       "<style scoped>\n",
       "    .dataframe tbody tr th:only-of-type {\n",
       "        vertical-align: middle;\n",
       "    }\n",
       "\n",
       "    .dataframe tbody tr th {\n",
       "        vertical-align: top;\n",
       "    }\n",
       "\n",
       "    .dataframe thead th {\n",
       "        text-align: right;\n",
       "    }\n",
       "</style>\n",
       "<table border=\"1\" class=\"dataframe\">\n",
       "  <thead>\n",
       "    <tr style=\"text-align: right;\">\n",
       "      <th></th>\n",
       "      <th>Model</th>\n",
       "      <th>Classes</th>\n",
       "      <th>LogLik</th>\n",
       "      <th>AIC</th>\n",
       "      <th>AWE</th>\n",
       "      <th>BIC</th>\n",
       "      <th>CAIC</th>\n",
       "      <th>CLC</th>\n",
       "      <th>KIC</th>\n",
       "      <th>SABIC</th>\n",
       "      <th>ICL</th>\n",
       "      <th>Entropy</th>\n",
       "      <th>prob_min</th>\n",
       "      <th>prob_max</th>\n",
       "      <th>n_min</th>\n",
       "      <th>n_max</th>\n",
       "      <th>BLRT_val</th>\n",
       "      <th>BLRT_p</th>\n",
       "    </tr>\n",
       "  </thead>\n",
       "  <tbody>\n",
       "    <tr>\n",
       "      <th>1</th>\n",
       "      <td>1</td>\n",
       "      <td>3</td>\n",
       "      <td>-29810.754878</td>\n",
       "      <td>59681.509756</td>\n",
       "      <td>60201.403996</td>\n",
       "      <td>59867.378043</td>\n",
       "      <td>59897.378043</td>\n",
       "      <td>59623.352091</td>\n",
       "      <td>59714.509756</td>\n",
       "      <td>59772.052976</td>\n",
       "      <td>-60084.626899</td>\n",
       "      <td>0.921167</td>\n",
       "      <td>0.950163</td>\n",
       "      <td>0.990502</td>\n",
       "      <td>0.102621</td>\n",
       "      <td>0.469241</td>\n",
       "      <td>2109.765384</td>\n",
       "      <td>0.009901</td>\n",
       "    </tr>\n",
       "    <tr>\n",
       "      <th>2</th>\n",
       "      <td>3</td>\n",
       "      <td>3</td>\n",
       "      <td>-29030.986841</td>\n",
       "      <td>58163.973681</td>\n",
       "      <td>59049.483764</td>\n",
       "      <td>58479.949769</td>\n",
       "      <td>58530.949769</td>\n",
       "      <td>58063.415774</td>\n",
       "      <td>58217.973681</td>\n",
       "      <td>58317.897154</td>\n",
       "      <td>-59603.275359</td>\n",
       "      <td>0.721046</td>\n",
       "      <td>0.782327</td>\n",
       "      <td>0.910362</td>\n",
       "      <td>0.104552</td>\n",
       "      <td>0.664000</td>\n",
       "      <td>77.835568</td>\n",
       "      <td>0.009901</td>\n",
       "    </tr>\n",
       "    <tr>\n",
       "      <th>3</th>\n",
       "      <td>1</td>\n",
       "      <td>4</td>\n",
       "      <td>-29694.642830</td>\n",
       "      <td>59465.285660</td>\n",
       "      <td>60124.467830</td>\n",
       "      <td>59700.718823</td>\n",
       "      <td>59738.718823</td>\n",
       "      <td>59390.969817</td>\n",
       "      <td>59506.285660</td>\n",
       "      <td>59579.973737</td>\n",
       "      <td>-60466.424935</td>\n",
       "      <td>0.842078</td>\n",
       "      <td>0.717086</td>\n",
       "      <td>0.990752</td>\n",
       "      <td>0.102621</td>\n",
       "      <td>0.469241</td>\n",
       "      <td>2883.270950</td>\n",
       "      <td>0.009901</td>\n",
       "    </tr>\n",
       "    <tr>\n",
       "      <th>4</th>\n",
       "      <td>3</td>\n",
       "      <td>4</td>\n",
       "      <td>-28701.205702</td>\n",
       "      <td>57520.411403</td>\n",
       "      <td>58544.809606</td>\n",
       "      <td>57885.952368</td>\n",
       "      <td>57944.952368</td>\n",
       "      <td>57404.095130</td>\n",
       "      <td>57582.411403</td>\n",
       "      <td>57698.479735</td>\n",
       "      <td>-58607.639194</td>\n",
       "      <td>0.841863</td>\n",
       "      <td>0.763435</td>\n",
       "      <td>0.999293</td>\n",
       "      <td>0.102897</td>\n",
       "      <td>0.469517</td>\n",
       "      <td>659.819916</td>\n",
       "      <td>0.009901</td>\n",
       "    </tr>\n",
       "    <tr>\n",
       "      <th>5</th>\n",
       "      <td>1</td>\n",
       "      <td>5</td>\n",
       "      <td>-27549.013930</td>\n",
       "      <td>55190.027860</td>\n",
       "      <td>55988.061208</td>\n",
       "      <td>55475.025900</td>\n",
       "      <td>55521.025900</td>\n",
       "      <td>55099.990593</td>\n",
       "      <td>55239.027860</td>\n",
       "      <td>55328.860797</td>\n",
       "      <td>-55573.760515</td>\n",
       "      <td>0.981366</td>\n",
       "      <td>0.686765</td>\n",
       "      <td>1.000000</td>\n",
       "      <td>0.020690</td>\n",
       "      <td>0.427586</td>\n",
       "      <td>222.351198</td>\n",
       "      <td>0.009901</td>\n",
       "    </tr>\n",
       "    <tr>\n",
       "      <th>6</th>\n",
       "      <td>3</td>\n",
       "      <td>5</td>\n",
       "      <td>-28557.523905</td>\n",
       "      <td>57249.047809</td>\n",
       "      <td>58412.679892</td>\n",
       "      <td>57664.153650</td>\n",
       "      <td>57731.153650</td>\n",
       "      <td>57116.627408</td>\n",
       "      <td>57319.047809</td>\n",
       "      <td>57451.260999</td>\n",
       "      <td>-58821.319985</td>\n",
       "      <td>0.789799</td>\n",
       "      <td>0.812760</td>\n",
       "      <td>0.896798</td>\n",
       "      <td>0.017103</td>\n",
       "      <td>0.480276</td>\n",
       "      <td>155.496270</td>\n",
       "      <td>0.009901</td>\n",
       "    </tr>\n",
       "  </tbody>\n",
       "</table>\n",
       "</div>"
      ],
      "text/plain": [
       "   Model  Classes        LogLik           AIC           AWE           BIC  \\\n",
       "1      1        3 -29810.754878  59681.509756  60201.403996  59867.378043   \n",
       "2      3        3 -29030.986841  58163.973681  59049.483764  58479.949769   \n",
       "3      1        4 -29694.642830  59465.285660  60124.467830  59700.718823   \n",
       "4      3        4 -28701.205702  57520.411403  58544.809606  57885.952368   \n",
       "5      1        5 -27549.013930  55190.027860  55988.061208  55475.025900   \n",
       "6      3        5 -28557.523905  57249.047809  58412.679892  57664.153650   \n",
       "\n",
       "           CAIC           CLC           KIC         SABIC           ICL  \\\n",
       "1  59897.378043  59623.352091  59714.509756  59772.052976 -60084.626899   \n",
       "2  58530.949769  58063.415774  58217.973681  58317.897154 -59603.275359   \n",
       "3  59738.718823  59390.969817  59506.285660  59579.973737 -60466.424935   \n",
       "4  57944.952368  57404.095130  57582.411403  57698.479735 -58607.639194   \n",
       "5  55521.025900  55099.990593  55239.027860  55328.860797 -55573.760515   \n",
       "6  57731.153650  57116.627408  57319.047809  57451.260999 -58821.319985   \n",
       "\n",
       "    Entropy  prob_min  prob_max     n_min     n_max     BLRT_val    BLRT_p  \n",
       "1  0.921167  0.950163  0.990502  0.102621  0.469241  2109.765384  0.009901  \n",
       "2  0.721046  0.782327  0.910362  0.104552  0.664000    77.835568  0.009901  \n",
       "3  0.842078  0.717086  0.990752  0.102621  0.469241  2883.270950  0.009901  \n",
       "4  0.841863  0.763435  0.999293  0.102897  0.469517   659.819916  0.009901  \n",
       "5  0.981366  0.686765  1.000000  0.020690  0.427586   222.351198  0.009901  \n",
       "6  0.789799  0.812760  0.896798  0.017103  0.480276   155.496270  0.009901  "
      ]
     },
     "execution_count": 3,
     "metadata": {},
     "output_type": "execute_result"
    }
   ],
   "source": [
    "model_performances"
   ]
  },
  {
   "cell_type": "markdown",
   "id": "understood-observation",
   "metadata": {},
   "source": [
    "- Apparently, taking a mixed gaussian model with five classes, equal variances, and covariances fixed to zero (i.e. model = 1 in the table) fits the data optimally, given BIC as the measure of performance (the lower the better, see documentation of the `tidyLPA` R package for more details).\n",
    "- the estimation of models with more than five classes fails in the `tidyLPA` package (which calls the `mclust` package for this task), which is probably a degrees of freedom issue. Thus only 3, 4, or 5 classes were inspected\n",
    "- Let's have a look at the profile plot for the best model (which is commonly used tool in the LPA literature):"
   ]
  },
  {
   "cell_type": "code",
   "execution_count": 4,
   "id": "invalid-tsunami",
   "metadata": {},
   "outputs": [
    {
     "data": {
      "text/html": [
       "\n",
       "        <iframe\n",
       "            width=\"1000\"\n",
       "            height=\"600\"\n",
       "            src=\"lpa_var_set_1_profile_plot.pdf\"\n",
       "            frameborder=\"0\"\n",
       "            allowfullscreen\n",
       "        ></iframe>\n",
       "        "
      ],
      "text/plain": [
       "<IPython.lib.display.IFrame at 0x7fbd2ef38370>"
      ]
     },
     "execution_count": 4,
     "metadata": {},
     "output_type": "execute_result"
    }
   ],
   "source": [
    "IFrame(\"lpa_var_set_1_profile_plot.pdf\", width=1000, height=600)"
   ]
  },
  {
   "cell_type": "markdown",
   "id": "involved-capitol",
   "metadata": {},
   "source": [
    "- The plot above shows the average responses to each of the normalized variables in set 1 for the five different profiles of participants. Error bars represent 95% confidence intervals.\n",
    "- It becomes clear that in this dataset we have a more complex class structure (and more classes) than in `Rossen, Isabel, et al. (2019)`, where only three groups are described, labelled as (1) *vaccine accepters*, (2) *fence sitters*, and (3) *vaccine rejecters*.\n",
    "\n",
    "- It seems as if group 3 (green) is the least concerned, but also least confident one in the safety and effectiveness of the vaccines, whereas it is only marginally below average in the other categories, such as trust in the government and confidence in the media. Apparently, it is also not too sceptical about science in general (in its own perception). One would expect that its group members would show low values for their intention to take a vaccine.\n",
    "\n",
    "- Group 4 (purple) is extraordinary worried about covid as a health concern and shows high trust in the safety and effectiveness of vaccines. Also the other categories it scores higher than any other group, but with less distance to the average of others. One would expect that its group members would show high values for their intention to take a vaccine.\n",
    "\n",
    "- Group 2 (blue) shows a highly similar pattern as group 4, but starting from a lower level in the first categories.\n",
    "\n",
    "- Group 1 (red) starts of with a similar pattern as group 2, but then seriously drops (even below group 3) when it comes to variables such as government trust or confidence in the media/ science. The high standard errors here, however, reflect high uncertainty due to the small amount of participants in this group. A subsequent analysis should analyse this group and its persistence in more detail.\n",
    "\n",
    "- Group 5 (yellow) is somewhere in the middle, possibly indicating some skepticism, but not rejection of vaccines against covid."
   ]
  },
  {
   "cell_type": "markdown",
   "id": "retained-penny",
   "metadata": {},
   "source": [
    "Let us now explore some group averages on auxiliary variables (group membership as in the five groups above):"
   ]
  },
  {
   "cell_type": "code",
   "execution_count": 5,
   "id": "disciplinary-senior",
   "metadata": {},
   "outputs": [
    {
     "data": {
      "text/html": [
       "\n",
       "        <iframe\n",
       "            width=\"1000\"\n",
       "            height=\"1000\"\n",
       "            src=\"lpa_aux_var_set_1_barplot.pdf\"\n",
       "            frameborder=\"0\"\n",
       "            allowfullscreen\n",
       "        ></iframe>\n",
       "        "
      ],
      "text/plain": [
       "<IPython.lib.display.IFrame at 0x7fbd2ef38160>"
      ]
     },
     "execution_count": 5,
     "metadata": {},
     "output_type": "execute_result"
    }
   ],
   "source": [
    "IFrame(\"lpa_aux_var_set_1_barplot.pdf\", width=1000, height=1000)"
   ]
  },
  {
   "cell_type": "markdown",
   "id": "manufactured-soccer",
   "metadata": {},
   "source": [
    "- the values in the figure above are normalized such that the sum of each variable across the different groups results in unity.\n",
    "- As expected, members of group 4 (purple) show the highest average values for their intention to take a vaccine, and members of group 3 (green) show the lowest values for their intention to take a vaccine. There is no qualitative difference in the vaccination attitude of participants between july and january.\n",
    "- less pronounced differences persist also across other auxiliary variables, but I will not go into detail at this point.\n",
    "- no confidence intervals are provided, since this is a more exploratory approach (even though it is common in the LPA literature) and not completely statistically rigorous (due to the two dependent steps of analysis)"
   ]
  },
  {
   "cell_type": "code",
   "execution_count": null,
   "id": "adolescent-offering",
   "metadata": {},
   "outputs": [],
   "source": []
  }
 ],
 "metadata": {
  "kernelspec": {
   "display_name": "Python 3",
   "language": "python",
   "name": "python3"
  },
  "language_info": {
   "codemirror_mode": {
    "name": "ipython",
    "version": 3
   },
   "file_extension": ".py",
   "mimetype": "text/x-python",
   "name": "python",
   "nbconvert_exporter": "python",
   "pygments_lexer": "ipython3",
   "version": "3.8.8"
  }
 },
 "nbformat": 4,
 "nbformat_minor": 5
}
