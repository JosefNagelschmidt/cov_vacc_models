{
 "cells": [
  {
   "cell_type": "code",
   "execution_count": 1,
   "id": "juvenile-tunnel",
   "metadata": {},
   "outputs": [],
   "source": [
    "import numpy as np\n",
    "import pandas as pd\n",
    "import os\n",
    "import seaborn as sns\n",
    "import matplotlib.pyplot as plt\n",
    "\n",
    "from statsmodels.graphics.gofplots import qqplot"
   ]
  },
  {
   "cell_type": "markdown",
   "id": "relative-revolution",
   "metadata": {},
   "source": [
    "- In this notebook I present some results from applying the adaptive lasso to a real-world dataset (LISS).\n",
    "- In total, 8 combinations of parameters were analyzed (cartesian product of the three binary variables: `(add_profession, add_political, january)`), but I think the one that I will present in this notebook is the most general and representative one, since it contains the highest number of regressors from which adaptive lasso can select, and the dependent variable from january (results for july look similar).\n",
    "- Let's start by importing the already estimated model:"
   ]
  },
  {
   "cell_type": "code",
   "execution_count": 7,
   "id": "classified-moral",
   "metadata": {},
   "outputs": [],
   "source": [
    "df_full_jan = pd.read_csv(\"sparse_modelling_adaptive_lasso_add_profession_yes_add_political_yes_january_yes.csv\", index_col=0)\n",
    "\n",
    "# or, if you ran the pytask to estimate the model, you can also use the build version in:\n",
    "# df_full_jan = pd.read_csv(os.path.abspath(\"../..\") + \"/bld/analysis/sparse_modelling_adaptive_lasso_add_profession_yes_add_political_yes_january_yes.csv\", index_col=0)\n",
    "# NOTE: if you replicate the estimation, there might be slight differences to the selected regressors in my example, since the adaptive lasso is only asymptotically consistent"
   ]
  },
  {
   "cell_type": "code",
   "execution_count": 8,
   "id": "occasional-provider",
   "metadata": {},
   "outputs": [
    {
     "data": {
      "text/html": [
       "<div>\n",
       "<style scoped>\n",
       "    .dataframe tbody tr th:only-of-type {\n",
       "        vertical-align: middle;\n",
       "    }\n",
       "\n",
       "    .dataframe tbody tr th {\n",
       "        vertical-align: top;\n",
       "    }\n",
       "\n",
       "    .dataframe thead th {\n",
       "        text-align: right;\n",
       "    }\n",
       "</style>\n",
       "<table border=\"1\" class=\"dataframe\">\n",
       "  <thead>\n",
       "    <tr style=\"text-align: right;\">\n",
       "      <th></th>\n",
       "      <th>selected_support</th>\n",
       "      <th>theta_nat</th>\n",
       "      <th>lower_conf_bound</th>\n",
       "      <th>upper_conf_bound</th>\n",
       "      <th>variable_name</th>\n",
       "      <th>intercept_value</th>\n",
       "    </tr>\n",
       "  </thead>\n",
       "  <tbody>\n",
       "    <tr>\n",
       "      <th>0</th>\n",
       "      <td>False</td>\n",
       "      <td>0.000000</td>\n",
       "      <td>NaN</td>\n",
       "      <td>NaN</td>\n",
       "      <td>p_2m_infected</td>\n",
       "      <td>-41.935807</td>\n",
       "    </tr>\n",
       "    <tr>\n",
       "      <th>1</th>\n",
       "      <td>False</td>\n",
       "      <td>0.000000</td>\n",
       "      <td>NaN</td>\n",
       "      <td>NaN</td>\n",
       "      <td>p_2m_acquaintance_infected</td>\n",
       "      <td>-41.935807</td>\n",
       "    </tr>\n",
       "    <tr>\n",
       "      <th>2</th>\n",
       "      <td>False</td>\n",
       "      <td>0.000000</td>\n",
       "      <td>NaN</td>\n",
       "      <td>NaN</td>\n",
       "      <td>p_2m_hospital_if_infect_self</td>\n",
       "      <td>-41.935807</td>\n",
       "    </tr>\n",
       "    <tr>\n",
       "      <th>3</th>\n",
       "      <td>False</td>\n",
       "      <td>0.000000</td>\n",
       "      <td>NaN</td>\n",
       "      <td>NaN</td>\n",
       "      <td>p_2m_infected_and_pass_on</td>\n",
       "      <td>-41.935807</td>\n",
       "    </tr>\n",
       "    <tr>\n",
       "      <th>4</th>\n",
       "      <td>False</td>\n",
       "      <td>0.000000</td>\n",
       "      <td>NaN</td>\n",
       "      <td>NaN</td>\n",
       "      <td>nervous_month</td>\n",
       "      <td>-41.935807</td>\n",
       "    </tr>\n",
       "    <tr>\n",
       "      <th>5</th>\n",
       "      <td>False</td>\n",
       "      <td>0.000000</td>\n",
       "      <td>NaN</td>\n",
       "      <td>NaN</td>\n",
       "      <td>depressed_month</td>\n",
       "      <td>-41.935807</td>\n",
       "    </tr>\n",
       "    <tr>\n",
       "      <th>6</th>\n",
       "      <td>False</td>\n",
       "      <td>0.000000</td>\n",
       "      <td>NaN</td>\n",
       "      <td>NaN</td>\n",
       "      <td>calm_month</td>\n",
       "      <td>-41.935807</td>\n",
       "    </tr>\n",
       "    <tr>\n",
       "      <th>7</th>\n",
       "      <td>False</td>\n",
       "      <td>0.000000</td>\n",
       "      <td>NaN</td>\n",
       "      <td>NaN</td>\n",
       "      <td>gloomy_month</td>\n",
       "      <td>-41.935807</td>\n",
       "    </tr>\n",
       "    <tr>\n",
       "      <th>8</th>\n",
       "      <td>False</td>\n",
       "      <td>0.000000</td>\n",
       "      <td>NaN</td>\n",
       "      <td>NaN</td>\n",
       "      <td>happy_month</td>\n",
       "      <td>-41.935807</td>\n",
       "    </tr>\n",
       "    <tr>\n",
       "      <th>9</th>\n",
       "      <td>True</td>\n",
       "      <td>15.796622</td>\n",
       "      <td>14.129720</td>\n",
       "      <td>17.463525</td>\n",
       "      <td>covid_health_concern</td>\n",
       "      <td>-41.935807</td>\n",
       "    </tr>\n",
       "    <tr>\n",
       "      <th>10</th>\n",
       "      <td>True</td>\n",
       "      <td>9.561118</td>\n",
       "      <td>7.934676</td>\n",
       "      <td>11.187559</td>\n",
       "      <td>covid_vaccine_effective</td>\n",
       "      <td>-41.935807</td>\n",
       "    </tr>\n",
       "    <tr>\n",
       "      <th>11</th>\n",
       "      <td>False</td>\n",
       "      <td>0.000000</td>\n",
       "      <td>NaN</td>\n",
       "      <td>NaN</td>\n",
       "      <td>covid_vaccine_safe</td>\n",
       "      <td>-41.935807</td>\n",
       "    </tr>\n",
       "    <tr>\n",
       "      <th>12</th>\n",
       "      <td>True</td>\n",
       "      <td>0.085318</td>\n",
       "      <td>0.049059</td>\n",
       "      <td>0.121578</td>\n",
       "      <td>covid_test_comply</td>\n",
       "      <td>-41.935807</td>\n",
       "    </tr>\n",
       "    <tr>\n",
       "      <th>13</th>\n",
       "      <td>False</td>\n",
       "      <td>0.000000</td>\n",
       "      <td>NaN</td>\n",
       "      <td>NaN</td>\n",
       "      <td>work_status_social assistance</td>\n",
       "      <td>-41.935807</td>\n",
       "    </tr>\n",
       "    <tr>\n",
       "      <th>14</th>\n",
       "      <td>True</td>\n",
       "      <td>-3.676641</td>\n",
       "      <td>-6.370747</td>\n",
       "      <td>-0.982534</td>\n",
       "      <td>work_status_employed</td>\n",
       "      <td>-41.935807</td>\n",
       "    </tr>\n",
       "  </tbody>\n",
       "</table>\n",
       "</div>"
      ],
      "text/plain": [
       "    selected_support  theta_nat  lower_conf_bound  upper_conf_bound  \\\n",
       "0              False   0.000000               NaN               NaN   \n",
       "1              False   0.000000               NaN               NaN   \n",
       "2              False   0.000000               NaN               NaN   \n",
       "3              False   0.000000               NaN               NaN   \n",
       "4              False   0.000000               NaN               NaN   \n",
       "5              False   0.000000               NaN               NaN   \n",
       "6              False   0.000000               NaN               NaN   \n",
       "7              False   0.000000               NaN               NaN   \n",
       "8              False   0.000000               NaN               NaN   \n",
       "9               True  15.796622         14.129720         17.463525   \n",
       "10              True   9.561118          7.934676         11.187559   \n",
       "11             False   0.000000               NaN               NaN   \n",
       "12              True   0.085318          0.049059          0.121578   \n",
       "13             False   0.000000               NaN               NaN   \n",
       "14              True  -3.676641         -6.370747         -0.982534   \n",
       "\n",
       "                    variable_name  intercept_value  \n",
       "0                   p_2m_infected       -41.935807  \n",
       "1      p_2m_acquaintance_infected       -41.935807  \n",
       "2    p_2m_hospital_if_infect_self       -41.935807  \n",
       "3       p_2m_infected_and_pass_on       -41.935807  \n",
       "4                   nervous_month       -41.935807  \n",
       "5                 depressed_month       -41.935807  \n",
       "6                      calm_month       -41.935807  \n",
       "7                    gloomy_month       -41.935807  \n",
       "8                     happy_month       -41.935807  \n",
       "9            covid_health_concern       -41.935807  \n",
       "10        covid_vaccine_effective       -41.935807  \n",
       "11             covid_vaccine_safe       -41.935807  \n",
       "12              covid_test_comply       -41.935807  \n",
       "13  work_status_social assistance       -41.935807  \n",
       "14           work_status_employed       -41.935807  "
      ]
     },
     "execution_count": 8,
     "metadata": {},
     "output_type": "execute_result"
    }
   ],
   "source": [
    "df_full_jan.head(15)"
   ]
  },
  {
   "cell_type": "code",
   "execution_count": 9,
   "id": "hollywood-dinner",
   "metadata": {},
   "outputs": [
    {
     "data": {
      "text/plain": [
       "(40, 6)"
      ]
     },
     "execution_count": 9,
     "metadata": {},
     "output_type": "execute_result"
    }
   ],
   "source": [
    "df_full_jan[df_full_jan[\"selected_support\"] == True].shape"
   ]
  },
  {
   "cell_type": "markdown",
   "id": "polish-venture",
   "metadata": {},
   "source": [
    "- The first column above (*selected_support*) indicates which covariates / regressors have been selected as relevant by the cross-validated adaptive lasso. The so called active set which contains all the corresponding non-zero coefficients for the relevant regressors, in this case make out $\\frac{40}{88}$, i.e. we have some sparsity but still many regressors seem to be relevant. \n",
    "- **NOTE: if you replicate the estimation, there might be slight differences to the 40 selected regressors in my example, since the adaptive lasso is only asymptotically consistent.**\n",
    "- The second column (*theta_nat*) lists the estimates for each coefficient by the adaptive lasso procedure.\n",
    "- The third and fourth column give confidence intervals calculated based on the *Standard Error Formula* given in chapter 3.6 of `Zou, Hui (2006)`.\n",
    "- The corresponding variable names are listed in the column *variable_name*, and the column *intercept_value* contains a constant (same value for each row) which is the estimated intercept from the adaptive lasso, if an intercept was trained. In this case (due to multicollinearity), no intercept was trained.\n",
    "\n",
    "- Going back to the *active set*: this set shrinks drastically if we apply the estimated asymptotic 95 % confidence intervals from the adaptive lasso for each coefficient, thus determining which coefficients are significantly different from zero:"
   ]
  },
  {
   "cell_type": "code",
   "execution_count": 10,
   "id": "proprietary-factor",
   "metadata": {},
   "outputs": [
    {
     "data": {
      "text/html": [
       "<div>\n",
       "<style scoped>\n",
       "    .dataframe tbody tr th:only-of-type {\n",
       "        vertical-align: middle;\n",
       "    }\n",
       "\n",
       "    .dataframe tbody tr th {\n",
       "        vertical-align: top;\n",
       "    }\n",
       "\n",
       "    .dataframe thead th {\n",
       "        text-align: right;\n",
       "    }\n",
       "</style>\n",
       "<table border=\"1\" class=\"dataframe\">\n",
       "  <thead>\n",
       "    <tr style=\"text-align: right;\">\n",
       "      <th></th>\n",
       "      <th>selected_support</th>\n",
       "      <th>theta_nat</th>\n",
       "      <th>lower_conf_bound</th>\n",
       "      <th>upper_conf_bound</th>\n",
       "      <th>variable_name</th>\n",
       "      <th>intercept_value</th>\n",
       "    </tr>\n",
       "  </thead>\n",
       "  <tbody>\n",
       "    <tr>\n",
       "      <th>14</th>\n",
       "      <td>True</td>\n",
       "      <td>-3.676641</td>\n",
       "      <td>-6.370747</td>\n",
       "      <td>-0.982534</td>\n",
       "      <td>work_status_employed</td>\n",
       "      <td>-41.935807</td>\n",
       "    </tr>\n",
       "    <tr>\n",
       "      <th>43</th>\n",
       "      <td>True</td>\n",
       "      <td>-17.816812</td>\n",
       "      <td>-32.640452</td>\n",
       "      <td>-2.993173</td>\n",
       "      <td>comply_curfew_self_no:disobey_bc_unaffected</td>\n",
       "      <td>-41.935807</td>\n",
       "    </tr>\n",
       "  </tbody>\n",
       "</table>\n",
       "</div>"
      ],
      "text/plain": [
       "    selected_support  theta_nat  lower_conf_bound  upper_conf_bound  \\\n",
       "14              True  -3.676641         -6.370747         -0.982534   \n",
       "43              True -17.816812        -32.640452         -2.993173   \n",
       "\n",
       "                                  variable_name  intercept_value  \n",
       "14                         work_status_employed       -41.935807  \n",
       "43  comply_curfew_self_no:disobey_bc_unaffected       -41.935807  "
      ]
     },
     "execution_count": 10,
     "metadata": {},
     "output_type": "execute_result"
    }
   ],
   "source": [
    "# selecting significant coefficients\n",
    "neg_significant_coeffs = df_full_jan[(df_full_jan[\"lower_conf_bound\"]<0) & (df_full_jan[\"upper_conf_bound\"]<0)]\n",
    "pos_significant_coeffs = df_full_jan[(df_full_jan[\"lower_conf_bound\"]>0) & (df_full_jan[\"upper_conf_bound\"]>0)]\n",
    "neg_significant_coeffs"
   ]
  },
  {
   "cell_type": "code",
   "execution_count": 11,
   "id": "chronic-lunch",
   "metadata": {},
   "outputs": [
    {
     "data": {
      "text/html": [
       "<div>\n",
       "<style scoped>\n",
       "    .dataframe tbody tr th:only-of-type {\n",
       "        vertical-align: middle;\n",
       "    }\n",
       "\n",
       "    .dataframe tbody tr th {\n",
       "        vertical-align: top;\n",
       "    }\n",
       "\n",
       "    .dataframe thead th {\n",
       "        text-align: right;\n",
       "    }\n",
       "</style>\n",
       "<table border=\"1\" class=\"dataframe\">\n",
       "  <thead>\n",
       "    <tr style=\"text-align: right;\">\n",
       "      <th></th>\n",
       "      <th>selected_support</th>\n",
       "      <th>theta_nat</th>\n",
       "      <th>lower_conf_bound</th>\n",
       "      <th>upper_conf_bound</th>\n",
       "      <th>variable_name</th>\n",
       "      <th>intercept_value</th>\n",
       "    </tr>\n",
       "  </thead>\n",
       "  <tbody>\n",
       "    <tr>\n",
       "      <th>9</th>\n",
       "      <td>True</td>\n",
       "      <td>15.796622</td>\n",
       "      <td>14.129720</td>\n",
       "      <td>17.463525</td>\n",
       "      <td>covid_health_concern</td>\n",
       "      <td>-41.935807</td>\n",
       "    </tr>\n",
       "    <tr>\n",
       "      <th>10</th>\n",
       "      <td>True</td>\n",
       "      <td>9.561118</td>\n",
       "      <td>7.934676</td>\n",
       "      <td>11.187559</td>\n",
       "      <td>covid_vaccine_effective</td>\n",
       "      <td>-41.935807</td>\n",
       "    </tr>\n",
       "    <tr>\n",
       "      <th>12</th>\n",
       "      <td>True</td>\n",
       "      <td>0.085318</td>\n",
       "      <td>0.049059</td>\n",
       "      <td>0.121578</td>\n",
       "      <td>covid_test_comply</td>\n",
       "      <td>-41.935807</td>\n",
       "    </tr>\n",
       "    <tr>\n",
       "      <th>58</th>\n",
       "      <td>True</td>\n",
       "      <td>0.195400</td>\n",
       "      <td>0.109274</td>\n",
       "      <td>0.281527</td>\n",
       "      <td>age</td>\n",
       "      <td>-41.935807</td>\n",
       "    </tr>\n",
       "  </tbody>\n",
       "</table>\n",
       "</div>"
      ],
      "text/plain": [
       "    selected_support  theta_nat  lower_conf_bound  upper_conf_bound  \\\n",
       "9               True  15.796622         14.129720         17.463525   \n",
       "10              True   9.561118          7.934676         11.187559   \n",
       "12              True   0.085318          0.049059          0.121578   \n",
       "58              True   0.195400          0.109274          0.281527   \n",
       "\n",
       "              variable_name  intercept_value  \n",
       "9      covid_health_concern       -41.935807  \n",
       "10  covid_vaccine_effective       -41.935807  \n",
       "12        covid_test_comply       -41.935807  \n",
       "58                      age       -41.935807  "
      ]
     },
     "execution_count": 11,
     "metadata": {},
     "output_type": "execute_result"
    }
   ],
   "source": [
    "pos_significant_coeffs"
   ]
  },
  {
   "cell_type": "markdown",
   "id": "attached-alabama",
   "metadata": {},
   "source": [
    "- The set of significantly non-zero coefficients (in my example) contains only $6$ elements.\n",
    "- This sharp reduction is probably due to the many binary variables, which create some relatively small subsets within the sample and thus widens the confidence intervals.\n",
    "- The most obvious and highly significant coefficients are *covid_health_concern* and *covid_vaccine_effective*. But we also encounter some surprises such as the significantly negative impact of *work_status_employed* on the intention to take a vaccine.\n",
    "- One word of caution: Even though the adaptive lasso is an oracle procedure for large sample sizes going to infinity, which means consistency in variable selection (chooses the right set of relevant variables) and asymptotic  normality around the true coefficients, there are still some assumptions we need to make: The linear model should be close to the truth (i.e. no model misspecifation) and no heteroscedasticity (but we do not assume a normal distribution of the error term in the true model). However, `Wagener, Jens, and Holger Dette (2012)` demonstrate that the basic properties with respect to model selection and parameter estimation of the adaptive lasso do not change if the assumption of homoscedasticity is violated.\n",
    "- A problem that becomes visible here are the large confidence intervals for some of the coefficients which can be attributed to the fact that subgroups formed by the binary variables reduce the available sample for that variable really quick, but also attributed to the problem of merging several datasets, which results in a reduced intersection of available data."
   ]
  },
  {
   "cell_type": "markdown",
   "id": "floral-shame",
   "metadata": {},
   "source": [
    "Let's have a further look into some measures of the estimated errors and dependent values:"
   ]
  },
  {
   "cell_type": "code",
   "execution_count": 12,
   "id": "pursuant-resistance",
   "metadata": {},
   "outputs": [],
   "source": [
    "# read in the original (cleaned) data:\n",
    "data = pd.read_csv(\"sparse_modelling_df_add_profession_yes_add_political_yes.csv\")\n",
    "\n",
    "# or, if you ran the pytask to build the sparse_modelling data, you can also use the build version in:\n",
    "# data = pd.read_csv(os.path.abspath(\"../..\") + \"/bld/data/sparse_modelling_df_add_profession_yes_add_political_yes.csv\")\n",
    "\n",
    "data = data.drop([\"personal_id\"], axis=1)\n",
    "\n",
    "y = data[[\"vaccine_intention_jan\"]]\n",
    "X = data.drop([\"vaccine_intention_jan\", \"vaccine_intention_jul\"], axis=1)\n",
    "\n",
    "y_numpy = y.to_numpy()\n",
    "X_numpy = X.to_numpy()\n",
    "\n",
    "# add the intercept that was used during the estimation:\n",
    "\n",
    "X_numpy_intercept = np.insert(X_numpy, 0, 1, axis=1)\n",
    "theta_intercept = np.insert(df_full_jan[\"theta_nat\"].to_numpy().reshape((len(df_full_jan[\"theta_nat\"]),1)), 0, df_full_jan[\"intercept_value\"][0] , axis=0)"
   ]
  },
  {
   "cell_type": "code",
   "execution_count": 13,
   "id": "wicked-hotel",
   "metadata": {},
   "outputs": [],
   "source": [
    "# get estimates for y-values and residuals, given the estimated coefficients in theta_nat\n",
    "y_hat_full_jan = X_numpy_intercept @ theta_intercept\n",
    "residuals_hat = y_numpy.flatten() - y_hat_full_jan.flatten()"
   ]
  },
  {
   "cell_type": "code",
   "execution_count": 14,
   "id": "mexican-bones",
   "metadata": {},
   "outputs": [
    {
     "data": {
      "image/png": "[encoded data removed]",
      "text/plain": [
       "<Figure size 432x288 with 1 Axes>"
      ]
     },
     "metadata": {
      "needs_background": "light"
     },
     "output_type": "display_data"
    }
   ],
   "source": [
    "# plot histograms for the original y-values and the estimated ones from the adaptive lasso model:\n",
    "plt.hist([y_hat_full_jan.flatten(), y_numpy.flatten()], bins='auto', label=['y_hat', 'y'])\n",
    "plt.legend(loc='upper left')\n",
    "plt.show()"
   ]
  },
  {
   "cell_type": "markdown",
   "id": "recent-savage",
   "metadata": {},
   "source": [
    "- The boundedness of the dependent variable (original y-values, 0 - 100) is visible. However, since inference and not prediction is our goal, this should not be a major issue.\n",
    "- Also, the original data $y$ shares characteristics of a bimodal/ trimodal distribution (peaks at 0, 50, and 100), which would make a quantile regression approach interesting."
   ]
  },
  {
   "cell_type": "code",
   "execution_count": 15,
   "id": "surgical-cycle",
   "metadata": {},
   "outputs": [
    {
     "data": {
      "image/png": "[encoded data removed]",
      "text/plain": [
       "<Figure size 432x288 with 1 Axes>"
      ]
     },
     "metadata": {
      "needs_background": "light"
     },
     "output_type": "display_data"
    }
   ],
   "source": [
    "# plot a histograms for the estimated residuals:\n",
    "_ = plt.hist(residuals_hat, bins='auto')\n",
    "plt.show()"
   ]
  },
  {
   "cell_type": "markdown",
   "id": "civil-locking",
   "metadata": {},
   "source": [
    "- This distribution of estimated residuals seems alright for the adaptive lasso assumptions"
   ]
  },
  {
   "cell_type": "code",
   "execution_count": 16,
   "id": "electoral-potato",
   "metadata": {},
   "outputs": [
    {
     "data": {
      "image/png": "[encoded data removed]",
      "text/plain": [
       "<Figure size 432x288 with 1 Axes>"
      ]
     },
     "metadata": {
      "needs_background": "light"
     },
     "output_type": "display_data"
    }
   ],
   "source": [
    "# concerning heteroscedasticity, we want to inspect a plot of estimated residuals (y-axis) on the predicted y-values (x-axis):\n",
    "_ = plt.plot(y_hat_full_jan, residuals_hat, 'bo')\n",
    "plt.show()"
   ]
  },
  {
   "cell_type": "markdown",
   "id": "raised-university",
   "metadata": {},
   "source": [
    "- This looks like homoscedasticity cannot be assumed in our data."
   ]
  },
  {
   "cell_type": "markdown",
   "id": "initial-lying",
   "metadata": {},
   "source": [
    "- In conclusion, I think the adaptive lasso is a suitable method to analyse the joint effect of all relevant regressors (from a larger set of possible regressors) on the vaccination attitude (dependent variable) of participants. \n",
    "- Further support for the method can be derived from the good simulation results on a data generating process that was motivated by the real LISS panel data (see `sim_study_results.ipynb`).\n",
    "- However, there is still room for improvement, such as making use of a (penalized) quantile regression, since with our bimodal / trimodal response, the conditional mean might not be the major object of interest. With quantile regressio, one could regress on the quantiles that are peaks of our dependent data. The implementation of this advanced procedures was however not feasible in the given time. For more information, have a look at `Wu, Yichao, and Yufeng Liu (2009)`."
   ]
  }
 ],
 "metadata": {
  "kernelspec": {
   "display_name": "Python 3",
   "language": "python",
   "name": "python3"
  },
  "language_info": {
   "codemirror_mode": {
    "name": "ipython",
    "version": 3
   },
   "file_extension": ".py",
   "mimetype": "text/x-python",
   "name": "python",
   "nbconvert_exporter": "python",
   "pygments_lexer": "ipython3",
   "version": "3.8.8"
  }
 },
 "nbformat": 4,
 "nbformat_minor": 5
}
