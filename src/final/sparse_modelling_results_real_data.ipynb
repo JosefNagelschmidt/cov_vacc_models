{
 "cells": [
  {
   "cell_type": "code",
   "execution_count": 1,
   "id": "gentle-humanitarian",
   "metadata": {},
   "outputs": [],
   "source": [
    "import numpy as np\n",
    "import pandas as pd\n",
    "import os\n",
    "import seaborn as sns\n",
    "import matplotlib.pyplot as plt\n",
    "\n",
    "from statsmodels.graphics.gofplots import qqplot"
   ]
  },
  {
   "cell_type": "markdown",
   "id": "resident-implement",
   "metadata": {},
   "source": [
    "- In this notebook I present some results from applying the adaptive lasso to a real-world dataset (LISS).\n",
    "- In total, 8 combinations of parameters were analyzed (cartesian product of the three binary variables: `(add_profession, add_political, january)`), but I think the one that I will present in this notebook is the most general and representative one, since it contains the highest number of regressors from which adaptive lasso can select, and the dependent variable from january (results for july look similar).\n",
    "- Let's start by importing the already calculated results from the `./bld/analysis` path:"
   ]
  },
  {
   "cell_type": "code",
   "execution_count": 2,
   "id": "matched-quarterly",
   "metadata": {},
   "outputs": [],
   "source": [
    "df_full_jan = pd.read_csv(os.path.abspath(\"../..\") + \"/bld/analysis/sparse_modelling_adaptive_lasso_add_profession_yes_add_political_yes_january_yes.csv\", index_col=0)"
   ]
  },
  {
   "cell_type": "code",
   "execution_count": 3,
   "id": "individual-tobago",
   "metadata": {},
   "outputs": [
    {
     "data": {
      "text/html": [
       "<div>\n",
       "<style scoped>\n",
       "    .dataframe tbody tr th:only-of-type {\n",
       "        vertical-align: middle;\n",
       "    }\n",
       "\n",
       "    .dataframe tbody tr th {\n",
       "        vertical-align: top;\n",
       "    }\n",
       "\n",
       "    .dataframe thead th {\n",
       "        text-align: right;\n",
       "    }\n",
       "</style>\n",
       "<table border=\"1\" class=\"dataframe\">\n",
       "  <thead>\n",
       "    <tr style=\"text-align: right;\">\n",
       "      <th></th>\n",
       "      <th>selected_support</th>\n",
       "      <th>theta_nat</th>\n",
       "      <th>lower_conf_bound</th>\n",
       "      <th>upper_conf_bound</th>\n",
       "      <th>variable_name</th>\n",
       "      <th>intercept_value</th>\n",
       "    </tr>\n",
       "  </thead>\n",
       "  <tbody>\n",
       "    <tr>\n",
       "      <th>0</th>\n",
       "      <td>False</td>\n",
       "      <td>0.000000</td>\n",
       "      <td>NaN</td>\n",
       "      <td>NaN</td>\n",
       "      <td>p_2m_infected</td>\n",
       "      <td>NaN</td>\n",
       "    </tr>\n",
       "    <tr>\n",
       "      <th>1</th>\n",
       "      <td>False</td>\n",
       "      <td>0.000000</td>\n",
       "      <td>NaN</td>\n",
       "      <td>NaN</td>\n",
       "      <td>p_2m_acquaintance_infected</td>\n",
       "      <td>NaN</td>\n",
       "    </tr>\n",
       "    <tr>\n",
       "      <th>2</th>\n",
       "      <td>False</td>\n",
       "      <td>0.000000</td>\n",
       "      <td>NaN</td>\n",
       "      <td>NaN</td>\n",
       "      <td>p_2m_hospital_if_infect_self</td>\n",
       "      <td>NaN</td>\n",
       "    </tr>\n",
       "    <tr>\n",
       "      <th>3</th>\n",
       "      <td>False</td>\n",
       "      <td>0.000000</td>\n",
       "      <td>NaN</td>\n",
       "      <td>NaN</td>\n",
       "      <td>p_2m_infected_and_pass_on</td>\n",
       "      <td>NaN</td>\n",
       "    </tr>\n",
       "    <tr>\n",
       "      <th>4</th>\n",
       "      <td>False</td>\n",
       "      <td>0.000000</td>\n",
       "      <td>NaN</td>\n",
       "      <td>NaN</td>\n",
       "      <td>nervous_month</td>\n",
       "      <td>NaN</td>\n",
       "    </tr>\n",
       "    <tr>\n",
       "      <th>5</th>\n",
       "      <td>False</td>\n",
       "      <td>0.000000</td>\n",
       "      <td>NaN</td>\n",
       "      <td>NaN</td>\n",
       "      <td>depressed_month</td>\n",
       "      <td>NaN</td>\n",
       "    </tr>\n",
       "    <tr>\n",
       "      <th>6</th>\n",
       "      <td>False</td>\n",
       "      <td>0.000000</td>\n",
       "      <td>NaN</td>\n",
       "      <td>NaN</td>\n",
       "      <td>calm_month</td>\n",
       "      <td>NaN</td>\n",
       "    </tr>\n",
       "    <tr>\n",
       "      <th>7</th>\n",
       "      <td>True</td>\n",
       "      <td>-0.259355</td>\n",
       "      <td>-1.536334</td>\n",
       "      <td>1.017624</td>\n",
       "      <td>gloomy_month</td>\n",
       "      <td>NaN</td>\n",
       "    </tr>\n",
       "    <tr>\n",
       "      <th>8</th>\n",
       "      <td>True</td>\n",
       "      <td>-0.475898</td>\n",
       "      <td>-1.676252</td>\n",
       "      <td>0.724457</td>\n",
       "      <td>happy_month</td>\n",
       "      <td>NaN</td>\n",
       "    </tr>\n",
       "    <tr>\n",
       "      <th>9</th>\n",
       "      <td>True</td>\n",
       "      <td>16.735916</td>\n",
       "      <td>14.944537</td>\n",
       "      <td>18.527294</td>\n",
       "      <td>covid_health_concern</td>\n",
       "      <td>NaN</td>\n",
       "    </tr>\n",
       "    <tr>\n",
       "      <th>10</th>\n",
       "      <td>True</td>\n",
       "      <td>9.930806</td>\n",
       "      <td>8.138759</td>\n",
       "      <td>11.722854</td>\n",
       "      <td>covid_vaccine_effective</td>\n",
       "      <td>NaN</td>\n",
       "    </tr>\n",
       "    <tr>\n",
       "      <th>11</th>\n",
       "      <td>False</td>\n",
       "      <td>0.000000</td>\n",
       "      <td>NaN</td>\n",
       "      <td>NaN</td>\n",
       "      <td>covid_vaccine_safe</td>\n",
       "      <td>NaN</td>\n",
       "    </tr>\n",
       "    <tr>\n",
       "      <th>12</th>\n",
       "      <td>False</td>\n",
       "      <td>0.000000</td>\n",
       "      <td>NaN</td>\n",
       "      <td>NaN</td>\n",
       "      <td>covid_test_comply</td>\n",
       "      <td>NaN</td>\n",
       "    </tr>\n",
       "    <tr>\n",
       "      <th>13</th>\n",
       "      <td>True</td>\n",
       "      <td>-1.987042</td>\n",
       "      <td>-7.385925</td>\n",
       "      <td>3.411840</td>\n",
       "      <td>work_status_social assistance</td>\n",
       "      <td>NaN</td>\n",
       "    </tr>\n",
       "    <tr>\n",
       "      <th>14</th>\n",
       "      <td>True</td>\n",
       "      <td>-6.683745</td>\n",
       "      <td>-9.359611</td>\n",
       "      <td>-4.007879</td>\n",
       "      <td>work_status_employed</td>\n",
       "      <td>NaN</td>\n",
       "    </tr>\n",
       "  </tbody>\n",
       "</table>\n",
       "</div>"
      ],
      "text/plain": [
       "    selected_support  theta_nat  lower_conf_bound  upper_conf_bound  \\\n",
       "0              False   0.000000               NaN               NaN   \n",
       "1              False   0.000000               NaN               NaN   \n",
       "2              False   0.000000               NaN               NaN   \n",
       "3              False   0.000000               NaN               NaN   \n",
       "4              False   0.000000               NaN               NaN   \n",
       "5              False   0.000000               NaN               NaN   \n",
       "6              False   0.000000               NaN               NaN   \n",
       "7               True  -0.259355         -1.536334          1.017624   \n",
       "8               True  -0.475898         -1.676252          0.724457   \n",
       "9               True  16.735916         14.944537         18.527294   \n",
       "10              True   9.930806          8.138759         11.722854   \n",
       "11             False   0.000000               NaN               NaN   \n",
       "12             False   0.000000               NaN               NaN   \n",
       "13              True  -1.987042         -7.385925          3.411840   \n",
       "14              True  -6.683745         -9.359611         -4.007879   \n",
       "\n",
       "                    variable_name  intercept_value  \n",
       "0                   p_2m_infected              NaN  \n",
       "1      p_2m_acquaintance_infected              NaN  \n",
       "2    p_2m_hospital_if_infect_self              NaN  \n",
       "3       p_2m_infected_and_pass_on              NaN  \n",
       "4                   nervous_month              NaN  \n",
       "5                 depressed_month              NaN  \n",
       "6                      calm_month              NaN  \n",
       "7                    gloomy_month              NaN  \n",
       "8                     happy_month              NaN  \n",
       "9            covid_health_concern              NaN  \n",
       "10        covid_vaccine_effective              NaN  \n",
       "11             covid_vaccine_safe              NaN  \n",
       "12              covid_test_comply              NaN  \n",
       "13  work_status_social assistance              NaN  \n",
       "14           work_status_employed              NaN  "
      ]
     },
     "execution_count": 3,
     "metadata": {},
     "output_type": "execute_result"
    }
   ],
   "source": [
    "df_full_jan.head(15)"
   ]
  },
  {
   "cell_type": "code",
   "execution_count": 4,
   "id": "administrative-henry",
   "metadata": {},
   "outputs": [
    {
     "data": {
      "text/plain": [
       "(52, 6)"
      ]
     },
     "execution_count": 4,
     "metadata": {},
     "output_type": "execute_result"
    }
   ],
   "source": [
    "df_full_jan[df_full_jan[\"selected_support\"] == True].shape"
   ]
  },
  {
   "cell_type": "markdown",
   "id": "entitled-consultancy",
   "metadata": {},
   "source": [
    "- The first column above (*selected_support*) indicates which covariates / regressors have been selected as relevant by the cross-validated adaptive lasso. The so called active set which contains all the corresponding non-zero coefficients for the relevant regressors, in this case make out $\\frac{52}{88}$, i.e. we have some sparsity but still many regressors seem to be relevant. \n",
    "- The second column (*theta_nat*) lists the estimates for each coefficient by the adaptive lasso procedure.\n",
    "- The third and fourth column give confidence intervals calculated based on the *Standard Error Formula* given in chapter 3.6 of `Zou, Hui (2006)`.\n",
    "- The corresponding variable names are listed in the column *variable_name*, and the column *intercept_value* contains a constant (same value for each row) which is the estimated intercept from the adaptive lasso, if an intercept was trained. In this case (due to multicollinearity), no intercept was trained.\n",
    "\n",
    "- Going back to the *active set*: this set shrinks drastically if we apply the estimated asymptotic 95 % confidence intervals from the adaptive lasso for each coefficient, thus determining which coefficients are significantly different from zero:"
   ]
  },
  {
   "cell_type": "code",
   "execution_count": 32,
   "id": "rising-production",
   "metadata": {},
   "outputs": [
    {
     "data": {
      "text/html": [
       "<div>\n",
       "<style scoped>\n",
       "    .dataframe tbody tr th:only-of-type {\n",
       "        vertical-align: middle;\n",
       "    }\n",
       "\n",
       "    .dataframe tbody tr th {\n",
       "        vertical-align: top;\n",
       "    }\n",
       "\n",
       "    .dataframe thead th {\n",
       "        text-align: right;\n",
       "    }\n",
       "</style>\n",
       "<table border=\"1\" class=\"dataframe\">\n",
       "  <thead>\n",
       "    <tr style=\"text-align: right;\">\n",
       "      <th></th>\n",
       "      <th>selected_support</th>\n",
       "      <th>theta_nat</th>\n",
       "      <th>lower_conf_bound</th>\n",
       "      <th>upper_conf_bound</th>\n",
       "      <th>variable_name</th>\n",
       "      <th>intercept_value</th>\n",
       "    </tr>\n",
       "  </thead>\n",
       "  <tbody>\n",
       "    <tr>\n",
       "      <th>14</th>\n",
       "      <td>True</td>\n",
       "      <td>-6.683745</td>\n",
       "      <td>-9.359611</td>\n",
       "      <td>-4.007879</td>\n",
       "      <td>work_status_employed</td>\n",
       "      <td>NaN</td>\n",
       "    </tr>\n",
       "    <tr>\n",
       "      <th>31</th>\n",
       "      <td>True</td>\n",
       "      <td>-6.676991</td>\n",
       "      <td>-13.067390</td>\n",
       "      <td>-0.286592</td>\n",
       "      <td>comply_curfew_self_no</td>\n",
       "      <td>NaN</td>\n",
       "    </tr>\n",
       "    <tr>\n",
       "      <th>43</th>\n",
       "      <td>True</td>\n",
       "      <td>-19.678871</td>\n",
       "      <td>-35.931314</td>\n",
       "      <td>-3.426428</td>\n",
       "      <td>comply_curfew_self_no:disobey_bc_unaffected</td>\n",
       "      <td>NaN</td>\n",
       "    </tr>\n",
       "    <tr>\n",
       "      <th>53</th>\n",
       "      <td>True</td>\n",
       "      <td>-1.848975</td>\n",
       "      <td>-3.684479</td>\n",
       "      <td>-0.013472</td>\n",
       "      <td>approp_gov_communication</td>\n",
       "      <td>NaN</td>\n",
       "    </tr>\n",
       "    <tr>\n",
       "      <th>59</th>\n",
       "      <td>True</td>\n",
       "      <td>-1.321340</td>\n",
       "      <td>-2.387277</td>\n",
       "      <td>-0.255402</td>\n",
       "      <td>hh_members</td>\n",
       "      <td>NaN</td>\n",
       "    </tr>\n",
       "    <tr>\n",
       "      <th>75</th>\n",
       "      <td>True</td>\n",
       "      <td>-10.022922</td>\n",
       "      <td>-19.950826</td>\n",
       "      <td>-0.095018</td>\n",
       "      <td>profession_unskilled_manual_work</td>\n",
       "      <td>NaN</td>\n",
       "    </tr>\n",
       "    <tr>\n",
       "      <th>78</th>\n",
       "      <td>True</td>\n",
       "      <td>-6.885410</td>\n",
       "      <td>-12.939092</td>\n",
       "      <td>-0.831729</td>\n",
       "      <td>origin_First generation foreign, non-western b...</td>\n",
       "      <td>NaN</td>\n",
       "    </tr>\n",
       "  </tbody>\n",
       "</table>\n",
       "</div>"
      ],
      "text/plain": [
       "    selected_support  theta_nat  lower_conf_bound  upper_conf_bound  \\\n",
       "14              True  -6.683745         -9.359611         -4.007879   \n",
       "31              True  -6.676991        -13.067390         -0.286592   \n",
       "43              True -19.678871        -35.931314         -3.426428   \n",
       "53              True  -1.848975         -3.684479         -0.013472   \n",
       "59              True  -1.321340         -2.387277         -0.255402   \n",
       "75              True -10.022922        -19.950826         -0.095018   \n",
       "78              True  -6.885410        -12.939092         -0.831729   \n",
       "\n",
       "                                        variable_name  intercept_value  \n",
       "14                               work_status_employed              NaN  \n",
       "31                              comply_curfew_self_no              NaN  \n",
       "43        comply_curfew_self_no:disobey_bc_unaffected              NaN  \n",
       "53                           approp_gov_communication              NaN  \n",
       "59                                         hh_members              NaN  \n",
       "75                   profession_unskilled_manual_work              NaN  \n",
       "78  origin_First generation foreign, non-western b...              NaN  "
      ]
     },
     "execution_count": 32,
     "metadata": {},
     "output_type": "execute_result"
    }
   ],
   "source": [
    "# selecting significant coefficients\n",
    "neg_significant_coeffs = df_full_jan[(df_full_jan[\"lower_conf_bound\"]<0) & (df_full_jan[\"upper_conf_bound\"]<0)]\n",
    "pos_significant_coeffs = df_full_jan[(df_full_jan[\"lower_conf_bound\"]>0) & (df_full_jan[\"upper_conf_bound\"]>0)]\n",
    "neg_significant_coeffs"
   ]
  },
  {
   "cell_type": "code",
   "execution_count": 33,
   "id": "enabling-indie",
   "metadata": {},
   "outputs": [
    {
     "data": {
      "text/html": [
       "<div>\n",
       "<style scoped>\n",
       "    .dataframe tbody tr th:only-of-type {\n",
       "        vertical-align: middle;\n",
       "    }\n",
       "\n",
       "    .dataframe tbody tr th {\n",
       "        vertical-align: top;\n",
       "    }\n",
       "\n",
       "    .dataframe thead th {\n",
       "        text-align: right;\n",
       "    }\n",
       "</style>\n",
       "<table border=\"1\" class=\"dataframe\">\n",
       "  <thead>\n",
       "    <tr style=\"text-align: right;\">\n",
       "      <th></th>\n",
       "      <th>selected_support</th>\n",
       "      <th>theta_nat</th>\n",
       "      <th>lower_conf_bound</th>\n",
       "      <th>upper_conf_bound</th>\n",
       "      <th>variable_name</th>\n",
       "      <th>intercept_value</th>\n",
       "    </tr>\n",
       "  </thead>\n",
       "  <tbody>\n",
       "    <tr>\n",
       "      <th>9</th>\n",
       "      <td>True</td>\n",
       "      <td>16.735916</td>\n",
       "      <td>14.944537</td>\n",
       "      <td>18.527294</td>\n",
       "      <td>covid_health_concern</td>\n",
       "      <td>NaN</td>\n",
       "    </tr>\n",
       "    <tr>\n",
       "      <th>10</th>\n",
       "      <td>True</td>\n",
       "      <td>9.930806</td>\n",
       "      <td>8.138759</td>\n",
       "      <td>11.722854</td>\n",
       "      <td>covid_vaccine_effective</td>\n",
       "      <td>NaN</td>\n",
       "    </tr>\n",
       "    <tr>\n",
       "      <th>39</th>\n",
       "      <td>True</td>\n",
       "      <td>22.082987</td>\n",
       "      <td>0.213388</td>\n",
       "      <td>43.952587</td>\n",
       "      <td>comply_curfew_self_no:disobey_bc_not_punish</td>\n",
       "      <td>NaN</td>\n",
       "    </tr>\n",
       "  </tbody>\n",
       "</table>\n",
       "</div>"
      ],
      "text/plain": [
       "    selected_support  theta_nat  lower_conf_bound  upper_conf_bound  \\\n",
       "9               True  16.735916         14.944537         18.527294   \n",
       "10              True   9.930806          8.138759         11.722854   \n",
       "39              True  22.082987          0.213388         43.952587   \n",
       "\n",
       "                                  variable_name  intercept_value  \n",
       "9                          covid_health_concern              NaN  \n",
       "10                      covid_vaccine_effective              NaN  \n",
       "39  comply_curfew_self_no:disobey_bc_not_punish              NaN  "
      ]
     },
     "execution_count": 33,
     "metadata": {},
     "output_type": "execute_result"
    }
   ],
   "source": [
    "pos_significant_coeffs"
   ]
  },
  {
   "cell_type": "markdown",
   "id": "western-fortune",
   "metadata": {},
   "source": [
    "- The set of significantly non-zero coefficients contains only $10$ elements.\n",
    "- This sharp reduction is probably due to the many binary variables, which create some relatively small subsets within the sample and thus widens the confidence intervals.\n",
    "- The most obvious and highly significant coefficients are *covid_health_concern* and *covid_vaccine_effective*. But we also encounter some surprises such as the significantly negative impact of *work_status_employed* on the intention to take a vaccine.\n",
    "- One word of caution: Even though the adaptive lasso is an oracle procedure for large sample sizes going to infinity, which means consistency in variable selection (chooses the right set of relevant variables) and asymptotic  normality around the true coefficients, there are still some assumptions we need to make: The linear model should be close to the truth (i.e. no model misspecifation) and no heteroscedasticity (but we do not assume a normal distribution of the error term in the true model). However, `Wagener, Jens, and Holger Dette (2012)` demonstrate that the basic properties with respect to model selection and parameter estimation of the adaptive lasso do not change if the assumption of homoscedasticity is violated.\n",
    "- A problem that becomes visible here are the large confidence intervals for some of the coefficients which can be attributed to the fact that subgroups formed by the binary variables reduce the available sample for that variable really quick, but also attributed to the problem of merging several datasets, which results in a reduced intersection of available data."
   ]
  },
  {
   "cell_type": "markdown",
   "id": "surgical-vermont",
   "metadata": {},
   "source": [
    "Let's have a further look into some measures of the estimated errors and dependent values:"
   ]
  },
  {
   "cell_type": "code",
   "execution_count": 5,
   "id": "grateful-simulation",
   "metadata": {},
   "outputs": [],
   "source": [
    "# read in the original (cleaned) data:\n",
    "data = pd.read_csv(os.path.abspath(\"../..\") + \"/bld/data/sparse_modelling_df_add_profession_yes_add_political_yes.csv\")\n",
    "data = data.drop([\"personal_id\"], axis=1)\n",
    "\n",
    "y = data[[\"vaccine_intention_jan\"]]\n",
    "X = data.drop([\"vaccine_intention_jan\", \"vaccine_intention_jul\"], axis=1)\n",
    "\n",
    "y_numpy = y.to_numpy()\n",
    "X_numpy = X.to_numpy()"
   ]
  },
  {
   "cell_type": "code",
   "execution_count": 6,
   "id": "quality-egyptian",
   "metadata": {},
   "outputs": [],
   "source": [
    "# get estimates for y-values and residuals, given the estimated coefficients in theta_nat\n",
    "y_hat_full_jan = X_numpy @ df_full_jan[\"theta_nat\"].to_numpy().reshape((len(df_full_jan[\"theta_nat\"]),1))\n",
    "residuals_hat = y_numpy.flatten() - y_hat_full_jan.flatten()"
   ]
  },
  {
   "cell_type": "code",
   "execution_count": 8,
   "id": "coordinated-sharp",
   "metadata": {},
   "outputs": [
    {
     "data": {
      "image/png": "[encoded data removed]",
      "text/plain": [
       "<Figure size 432x288 with 1 Axes>"
      ]
     },
     "metadata": {
      "needs_background": "light"
     },
     "output_type": "display_data"
    }
   ],
   "source": [
    "# plot histograms for the original y-values and the estimated ones from the adaptive lasso model:\n",
    "plt.hist([y_hat_full_jan.flatten(), y_numpy.flatten()], bins='auto', label=['y_hat', 'y'])\n",
    "plt.legend(loc='upper left')\n",
    "plt.show()"
   ]
  },
  {
   "cell_type": "markdown",
   "id": "animated-television",
   "metadata": {},
   "source": [
    "- The boundedness of the dependent variable (original y-values, 0 - 100) is visible. However, since inference and not prediction is our goal, this should not be a major issue.\n",
    "- Also, the original data $y$ shares characteristics of a bimodal/ trimodal distribution (peaks at 0, 50, and 100), which would make a quantile regression approach interesting."
   ]
  },
  {
   "cell_type": "code",
   "execution_count": 9,
   "id": "capital-binary",
   "metadata": {},
   "outputs": [
    {
     "data": {
      "image/png": "[encoded data removed]",
      "text/plain": [
       "<Figure size 432x288 with 1 Axes>"
      ]
     },
     "metadata": {
      "needs_background": "light"
     },
     "output_type": "display_data"
    }
   ],
   "source": [
    "# plot a histograms for the estimated residuals:\n",
    "_ = plt.hist(residuals_hat, bins='auto')\n",
    "plt.show()"
   ]
  },
  {
   "cell_type": "markdown",
   "id": "single-support",
   "metadata": {},
   "source": [
    "- This distribution of estimated residuals seems alright for the adaptive lasso assumptions"
   ]
  },
  {
   "cell_type": "code",
   "execution_count": 10,
   "id": "fabulous-marketplace",
   "metadata": {},
   "outputs": [
    {
     "data": {
      "image/png": "[encoded data removed]",
      "text/plain": [
       "<Figure size 432x288 with 1 Axes>"
      ]
     },
     "metadata": {
      "needs_background": "light"
     },
     "output_type": "display_data"
    }
   ],
   "source": [
    "# concerning heteroscedasticity, we want to inspect a plot of estimated residuals (y-axis) on the predicted y-values (x-axis):\n",
    "_ = plt.plot(y_hat_full_jan, residuals_hat, 'bo')\n",
    "plt.show()"
   ]
  },
  {
   "cell_type": "markdown",
   "id": "hairy-melbourne",
   "metadata": {},
   "source": [
    "- This looks like homoscedasticity cannot be assumed in our data."
   ]
  },
  {
   "cell_type": "markdown",
   "id": "criminal-bidder",
   "metadata": {},
   "source": [
    "- In conclusion, I think the adaptive lasso is a suitable method to analyse the joint effect of all relevant regressors (from a larger set of possible regressors) on the vaccination attitude (dependent variable) of participants. \n",
    "- Further support for the method can be derived from the good simulation results on a data generating process that was motivated by the real LISS panel data (see `sim_study_results.ipynb`).\n",
    "- However, there is still room for improvement, such as making use of a (penalized) quantile regression, since with our bimodal / trimodal response, the conditional mean might not be the major object of interest. With quantile regressio, one could regress on the quantiles that are peaks of our dependent data. The implementation of this advanced procedures was however not feasible in the given time. For more information, have a look at `Wu, Yichao, and Yufeng Liu (2009)`."
   ]
  },
  {
   "cell_type": "code",
   "execution_count": null,
   "id": "wrong-fusion",
   "metadata": {},
   "outputs": [],
   "source": []
  }
 ],
 "metadata": {
  "kernelspec": {
   "display_name": "Python 3",
   "language": "python",
   "name": "python3"
  },
  "language_info": {
   "codemirror_mode": {
    "name": "ipython",
    "version": 3
   },
   "file_extension": ".py",
   "mimetype": "text/x-python",
   "name": "python",
   "nbconvert_exporter": "python",
   "pygments_lexer": "ipython3",
   "version": "3.8.8"
  }
 },
 "nbformat": 4,
 "nbformat_minor": 5
}
