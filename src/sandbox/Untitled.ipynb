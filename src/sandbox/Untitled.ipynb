{
 "cells": [
  {
   "cell_type": "code",
   "execution_count": 1,
   "id": "alien-roulette",
   "metadata": {},
   "outputs": [],
   "source": [
    "import numpy as np \n",
    "from sklearn.preprocessing import StandardScaler\n",
    "from sklearn.linear_model import Lasso\n",
    "from numba import njit, jit"
   ]
  },
  {
   "cell_type": "code",
   "execution_count": 3,
   "id": "paperback-briefing",
   "metadata": {},
   "outputs": [],
   "source": [
    "def soft_threshold(rho, lamda, w):\n",
    "    '''Soft threshold function used for normalized data and lasso regression'''\n",
    "    if rho < - lamda * w:\n",
    "        return rho + lamda * w\n",
    "    elif rho >  lamda * w:\n",
    "        return rho - lamda * w\n",
    "    else: \n",
    "        return 0.0"
   ]
  },
  {
   "cell_type": "code",
   "execution_count": 3,
   "id": "minus-bristol",
   "metadata": {},
   "outputs": [],
   "source": [
    "def adaptive_lasso(theta, X , y, penalty_factors, lamda = 0.001, num_iters = 1000, intercept = False):\n",
    "    '''Coordinate gradient descent for lasso regression - for standardized data ''' \n",
    "    \n",
    "    scaler = StandardScaler()\n",
    "    y = scaler.fit_transform(y)\n",
    "    \n",
    "    if intercept == False:\n",
    "        X = scaler.fit_transform(X)\n",
    "    else:\n",
    "        # we drop the constant from the regression, since all variables, including the dependent variable, are standardized\n",
    "        X = np.delete(X, 0, 1)\n",
    "        X = scaler.fit_transform(X)\n",
    "    \n",
    "    m, p = X.shape\n",
    "    \n",
    "    for i in range(num_iters): \n",
    "        for j in range(p):\n",
    "            w_j = penalty_factors[j]\n",
    "            X_j = X[:,j].reshape(-1,1)\n",
    "            y_pred = X @ theta\n",
    "            rho = X_j.T @ (y - y_pred  + theta[j]*X_j)\n",
    "            z = np.sum(np.square(X_j))\n",
    "        \n",
    "            #if intercept == True:  \n",
    "            #    if j == 0: \n",
    "            #        theta[j] =  rho / z\n",
    "            #    else:\n",
    "            #        theta[j] =  (1 / z) * soft_threshold(rho, lamda, w_j)  \n",
    "\n",
    "            theta[j] =  (1 / z) * soft_threshold(rho, lamda, w_j)   \n",
    "            \n",
    "    return theta.flatten()"
   ]
  },
  {
   "cell_type": "code",
   "execution_count": 246,
   "id": "threaded-equity",
   "metadata": {},
   "outputs": [],
   "source": [
    "np.random.seed(seed=1)\n",
    "X = np.random.rand(50,3)\n",
    "m, p = X.shape\n",
    "#X = np.insert(X, 0, 1, axis=1)\n",
    "y = np.array(1.5 * X[:,0] - 14.5 * X[:,1] + 5, dtype=np.float64).reshape(-1,1)\n",
    "initial_theta = np.ones((p,1))\n",
    "pen = np.ones((p,1))"
   ]
  },
  {
   "cell_type": "code",
   "execution_count": 77,
   "id": "royal-check",
   "metadata": {},
   "outputs": [],
   "source": [
    "data = np.insert(X, 0, np.array(1.5 * X[:,0] - 14.5 * X[:,1]), axis=1)"
   ]
  },
  {
   "cell_type": "code",
   "execution_count": 78,
   "id": "cross-donna",
   "metadata": {},
   "outputs": [],
   "source": [
    "np.savetxt(\"test_lasso.csv\", data , delimiter=',', header=\"y,X_0,X_1\", comments=\"\")"
   ]
  },
  {
   "cell_type": "code",
   "execution_count": 182,
   "id": "dynamic-dialogue",
   "metadata": {},
   "outputs": [
    {
     "data": {
      "text/plain": [
       "numpy.float64"
      ]
     },
     "execution_count": 182,
     "metadata": {},
     "output_type": "execute_result"
    }
   ],
   "source": [
    "type(X[0,0])"
   ]
  },
  {
   "cell_type": "code",
   "execution_count": 37,
   "id": "another-emission",
   "metadata": {},
   "outputs": [
    {
     "data": {
      "text/plain": [
       "13.3262"
      ]
     },
     "execution_count": 37,
     "metadata": {},
     "output_type": "execute_result"
    }
   ],
   "source": [
    "3.9 * 0.4365 - 9.5 * 0.8817 + 20"
   ]
  },
  {
   "cell_type": "code",
   "execution_count": 220,
   "id": "solid-valuable",
   "metadata": {},
   "outputs": [],
   "source": [
    "betas = adaptive_lasso(theta=initial_theta, X=X, y=y, penalty_factors = pen, intercept = True)"
   ]
  },
  {
   "cell_type": "code",
   "execution_count": 221,
   "id": "related-manitoba",
   "metadata": {},
   "outputs": [
    {
     "data": {
      "text/plain": [
       "array([ 0.72464173, -0.72317067])"
      ]
     },
     "execution_count": 221,
     "metadata": {},
     "output_type": "execute_result"
    }
   ],
   "source": [
    "betas"
   ]
  },
  {
   "cell_type": "code",
   "execution_count": 222,
   "id": "perceived-kingston",
   "metadata": {},
   "outputs": [
    {
     "data": {
      "text/plain": [
       "array([ 2.99131208, -2.98523955])"
      ]
     },
     "execution_count": 222,
     "metadata": {},
     "output_type": "execute_result"
    }
   ],
   "source": [
    "X = np.delete(X, 0, 1)\n",
    "(betas / np.std(X)) * np.std(y)"
   ]
  },
  {
   "cell_type": "code",
   "execution_count": 145,
   "id": "generous-template",
   "metadata": {},
   "outputs": [
    {
     "data": {
      "text/plain": [
       "6.000000047248456"
      ]
     },
     "execution_count": 145,
     "metadata": {},
     "output_type": "execute_result"
    }
   ],
   "source": [
    "betas[0] - ( np.sum(  (X[:,1:].mean(axis=0) / np.std(X[:,1:], axis=0)) * betas[1:] ))"
   ]
  },
  {
   "cell_type": "code",
   "execution_count": 72,
   "id": "charged-walker",
   "metadata": {},
   "outputs": [],
   "source": [
    "X = np.random.rand(1000,2)\n",
    "X = np.insert(X, 0, 1, axis=1)\n",
    "y = np.array(3 * X[:,1] - 3 * X[:,2] + 20* X[:,0]).reshape(-1,1)\n",
    "m, p = X.shape\n",
    "initial_theta = np.ones((p,1))\n",
    "pen = np.ones((p,1))"
   ]
  },
  {
   "cell_type": "code",
   "execution_count": 238,
   "id": "superior-lunch",
   "metadata": {},
   "outputs": [],
   "source": [
    "betas_2 = adaptive_lasso_intercept(theta=initial_theta, X=X, y=y, penalty_factors = pen, intercept = True)"
   ]
  },
  {
   "cell_type": "code",
   "execution_count": 239,
   "id": "popular-invalid",
   "metadata": {},
   "outputs": [
    {
     "data": {
      "text/plain": [
       "array([20.020455  ,  0.88032817, -0.877247  ])"
      ]
     },
     "execution_count": 239,
     "metadata": {},
     "output_type": "execute_result"
    }
   ],
   "source": [
    "betas_2"
   ]
  },
  {
   "cell_type": "code",
   "execution_count": 243,
   "id": "together-funds",
   "metadata": {},
   "outputs": [
    {
     "data": {
      "text/plain": [
       "array([24.36443892,  1.07133939, -1.06758968])"
      ]
     },
     "execution_count": 243,
     "metadata": {},
     "output_type": "execute_result"
    }
   ],
   "source": [
    "(betas_2 / np.std(X)) * np.std(y)\n",
    "(betas_2) * np.std(y)"
   ]
  },
  {
   "cell_type": "code",
   "execution_count": 37,
   "id": "immune-crossing",
   "metadata": {},
   "outputs": [],
   "source": [
    "def adaptive_lasso_intercept(theta, X , y, penalty_factors, lamda = 0.001, num_iters = 1000, intercept = True):\n",
    "    '''Coordinate gradient descent for lasso regression - for standardized data ''' \n",
    "\n",
    "    scaler = StandardScaler()\n",
    "    y = scaler.fit_transform(y)\n",
    "    \n",
    "    if intercept == False:\n",
    "        X = scaler.fit_transform(X)\n",
    "    else:\n",
    "        # add intercept column\n",
    "        X = scaler.fit_transform(X)\n",
    "        X = np.insert(X, 0, 1, axis=1)\n",
    "    \n",
    "    m, p = X.shape\n",
    "    \n",
    "    for i in range(num_iters): \n",
    "        for j in range(p):\n",
    "            w_j = penalty_factors[j]\n",
    "            X_j = X[:,j].reshape(-1,1)\n",
    "            y_pred = X @ theta\n",
    "            rho = X_j.T @ (y - y_pred  + theta[j]*X_j)\n",
    "            z = np.sum(np.square(X_j))\n",
    "        \n",
    "            if intercept == True:  \n",
    "                if j == 0: \n",
    "                    theta[j] =  rho / z\n",
    "                else:\n",
    "                    theta[j] =  (1 / z) * soft_threshold(rho, lamda, w_j) \n",
    "                    \n",
    "            else:\n",
    "                theta[j] =  (1 / z) * soft_threshold(rho, lamda, w_j)   \n",
    "            \n",
    "    return theta.flatten()"
   ]
  },
  {
   "cell_type": "code",
   "execution_count": 115,
   "id": "agricultural-anatomy",
   "metadata": {},
   "outputs": [],
   "source": [
    "m, p = X.shape\n",
    "intercept = True\n",
    "if intercept:\n",
    "    p = p + 1\n",
    "\n",
    "initial_theta = np.ones((p,1))\n",
    "pen = np.ones((p,1))\n",
    "\n",
    "betas = adaptive_lasso_intercept(theta=initial_theta, X = X , y = y, penalty_factors = pen, intercept = intercept)"
   ]
  },
  {
   "cell_type": "code",
   "execution_count": 116,
   "id": "commercial-longitude",
   "metadata": {},
   "outputs": [
    {
     "data": {
      "text/plain": [
       "array([ 1.75823023e-14,  1.02579599e-01, -9.94392115e-01])"
      ]
     },
     "execution_count": 116,
     "metadata": {},
     "output_type": "execute_result"
    }
   ],
   "source": [
    "betas"
   ]
  },
  {
   "cell_type": "code",
   "execution_count": 117,
   "id": "liberal-lucas",
   "metadata": {},
   "outputs": [
    {
     "data": {
      "text/plain": [
       "array([ 2.56740532e-13,  1.49788920e+00, -1.45203260e+01])"
      ]
     },
     "execution_count": 117,
     "metadata": {},
     "output_type": "execute_result"
    }
   ],
   "source": [
    "betas / np.std(X) * np.std(y)"
   ]
  },
  {
   "cell_type": "code",
   "execution_count": 87,
   "id": "local-breakfast",
   "metadata": {},
   "outputs": [
    {
     "data": {
      "text/plain": [
       "array([ 2.56740532e-13,  1.49788920e+00, -1.45203260e+01])"
      ]
     },
     "execution_count": 87,
     "metadata": {},
     "output_type": "execute_result"
    }
   ],
   "source": [
    "betas / np.std(X) * np.std(y)"
   ]
  },
  {
   "cell_type": "code",
   "execution_count": 118,
   "id": "extreme-disease",
   "metadata": {},
   "outputs": [
    {
     "data": {
      "text/plain": [
       "5.0005240897670795"
      ]
     },
     "execution_count": 118,
     "metadata": {},
     "output_type": "execute_result"
    }
   ],
   "source": [
    "(betas[0] - (np.sum(  (X[:,1:].mean(axis=0) / np.std(X[:,1:], axis=0)) * betas[1:]))) * np.std(y) + np.mean(y)"
   ]
  },
  {
   "cell_type": "code",
   "execution_count": 110,
   "id": "completed-apollo",
   "metadata": {},
   "outputs": [
    {
     "data": {
      "text/plain": [
       "Lasso(alpha=0.001)"
      ]
     },
     "execution_count": 110,
     "metadata": {},
     "output_type": "execute_result"
    }
   ],
   "source": [
    "reg = Lasso(alpha=0.001, fit_intercept = False)\n",
    "scaler = StandardScaler()\n",
    "X_std = scaler.fit_transform(X)\n",
    "y_std = scaler.fit_transform(y)\n",
    "y_std = y_std.flatten()\n",
    "# Fit the lasso regression\n",
    "reg.fit(X_std, y_std)"
   ]
  },
  {
   "cell_type": "code",
   "execution_count": 111,
   "id": "silver-enterprise",
   "metadata": {},
   "outputs": [
    {
     "name": "stdout",
     "output_type": "stream",
     "text": [
      "[ 0.10158284 -0.99339536]\n"
     ]
    }
   ],
   "source": [
    "print(reg.coef_)"
   ]
  },
  {
   "cell_type": "code",
   "execution_count": 109,
   "id": "molecular-gasoline",
   "metadata": {},
   "outputs": [
    {
     "name": "stdout",
     "output_type": "stream",
     "text": [
      "0.0\n"
     ]
    }
   ],
   "source": [
    "print(reg.intercept_)"
   ]
  },
  {
   "cell_type": "code",
   "execution_count": 119,
   "id": "passing-division",
   "metadata": {},
   "outputs": [
    {
     "data": {
      "text/plain": [
       "array([0.49912737, 0.50018097])"
      ]
     },
     "execution_count": 119,
     "metadata": {},
     "output_type": "execute_result"
    }
   ],
   "source": [
    "X[:,:].mean(axis=0)"
   ]
  },
  {
   "cell_type": "code",
   "execution_count": 121,
   "id": "dimensional-still",
   "metadata": {},
   "outputs": [
    {
     "data": {
      "text/plain": [
       "0.28887777651043417"
      ]
     },
     "execution_count": 121,
     "metadata": {},
     "output_type": "execute_result"
    }
   ],
   "source": [
    "np.std(X)"
   ]
  },
  {
   "cell_type": "code",
   "execution_count": 126,
   "id": "tracked-jacket",
   "metadata": {},
   "outputs": [
    {
     "data": {
      "text/plain": [
       "array([14.62278928, 29.16354553])"
      ]
     },
     "execution_count": 126,
     "metadata": {},
     "output_type": "execute_result"
    }
   ],
   "source": [
    "a = np.array([1,2])\n",
    "x_mean = X[:,:].mean(axis=0)\n",
    "x_std = X[:,:].std(axis=0)\n",
    "y_std = np.std(y)\n",
    "\n",
    "a / x_std * y_std"
   ]
  },
  {
   "cell_type": "code",
   "execution_count": 124,
   "id": "flush-projection",
   "metadata": {},
   "outputs": [],
   "source": [
    "x_std = X[:,:].std(axis=0)"
   ]
  },
  {
   "cell_type": "code",
   "execution_count": 125,
   "id": "adopted-constraint",
   "metadata": {},
   "outputs": [
    {
     "data": {
      "text/plain": [
       "array([0.2884713 , 0.28928273])"
      ]
     },
     "execution_count": 125,
     "metadata": {},
     "output_type": "execute_result"
    }
   ],
   "source": [
    "x_std"
   ]
  },
  {
   "cell_type": "code",
   "execution_count": 128,
   "id": "portuguese-emphasis",
   "metadata": {},
   "outputs": [
    {
     "data": {
      "text/plain": [
       "array([0.50018097])"
      ]
     },
     "execution_count": 128,
     "metadata": {},
     "output_type": "execute_result"
    }
   ],
   "source": [
    "x_mean[1:]"
   ]
  },
  {
   "cell_type": "code",
   "execution_count": 130,
   "id": "measured-battlefield",
   "metadata": {},
   "outputs": [
    {
     "data": {
      "text/plain": [
       "array([0.50018097, 0.49912737, 0.50018097])"
      ]
     },
     "execution_count": 130,
     "metadata": {},
     "output_type": "execute_result"
    }
   ],
   "source": [
    "np.concatenate((x_mean[1:], x_mean))"
   ]
  },
  {
   "cell_type": "code",
   "execution_count": 38,
   "id": "important-mozambique",
   "metadata": {},
   "outputs": [],
   "source": [
    "def adaptive_lasso_intercept(theta, X , y, penalty_factors, lamda = 0.001, num_iters = 1000, intercept = True):\n",
    "    '''Coordinate gradient descent for lasso regression - for standardized data ''' \n",
    "\n",
    "    x_mean = X[:,:].mean(axis=0)\n",
    "    x_std = X[:,:].std(axis=0)\n",
    "    y_mean = np.mean(y)\n",
    "    y_std = np.std(y)\n",
    "\n",
    "    scaler = StandardScaler()\n",
    "    y = scaler.fit_transform(y)\n",
    "    \n",
    "    if intercept == False:\n",
    "        X = scaler.fit_transform(X)\n",
    "    else:\n",
    "        # add intercept column\n",
    "        X = scaler.fit_transform(X)\n",
    "        X = np.insert(X, 0, 1, axis=1)\n",
    "    \n",
    "    m, p = X.shape\n",
    "    \n",
    "    for i in range(num_iters): \n",
    "        for j in range(p):\n",
    "            w_j = penalty_factors[j]\n",
    "            X_j = X[:,j].reshape(-1,1)\n",
    "            y_pred = X @ theta\n",
    "            rho = X_j.T @ (y - y_pred  + theta[j]*X_j)\n",
    "            z = np.sum(np.square(X_j))\n",
    "        \n",
    "            if intercept == True:  \n",
    "                if j == 0: \n",
    "                    theta[j] =  rho / z\n",
    "                else:\n",
    "                    theta[j] =  (1 / z) * soft_threshold(rho, lamda, w_j) \n",
    "                    \n",
    "            else:\n",
    "                theta[j] =  (1 / z) * soft_threshold(rho, lamda, w_j)   \n",
    "\n",
    "    if intercept == False:\n",
    "        theta_nat = theta.flatten() / x_std * y_std\n",
    "    if intercept == True:\n",
    "        theta_0 = (theta.flatten()[0] - np.sum((x_mean[1:] / x_std[1:]) * theta.flatten()[1:])) * y_std + y_mean\n",
    "        theta_betas = theta.flatten()[1:] / x_std[1:] * y_std\n",
    "        theta_nat = np.insert(arr = theta_betas, obj = 0, values= theta_0)\n",
    "        \n",
    "    return [theta.flatten(), theta_nat]"
   ]
  },
  {
   "cell_type": "code",
   "execution_count": 137,
   "id": "speaking-rough",
   "metadata": {},
   "outputs": [],
   "source": [
    "m, p = X.shape\n",
    "intercept = True\n",
    "if intercept:\n",
    "    p = p + 1\n",
    "\n",
    "initial_theta = np.ones((p,1))\n",
    "pen = np.ones((p,1))\n",
    "\n",
    "betas, betas_nat = adaptive_lasso_intercept(theta=initial_theta, X = X , y = y, penalty_factors = pen, intercept = intercept)"
   ]
  },
  {
   "cell_type": "code",
   "execution_count": 138,
   "id": "furnished-giving",
   "metadata": {},
   "outputs": [
    {
     "data": {
      "text/plain": [
       "array([ 1.75823023e-14,  1.02579599e-01, -9.94392115e-01])"
      ]
     },
     "execution_count": 138,
     "metadata": {},
     "output_type": "execute_result"
    }
   ],
   "source": [
    "betas"
   ]
  },
  {
   "cell_type": "code",
   "execution_count": 39,
   "id": "opposed-wallpaper",
   "metadata": {},
   "outputs": [],
   "source": [
    "def update_coeffs(X, y, theta, active_set, penalty_factors, intercept, lamda, thresh, active_thresh):\n",
    "    active_set_converged_check = np.full((len(active_set), ), False)\n",
    "    active_set_update = np.full((len(active_set), ), True)\n",
    "    \n",
    "    #if determine_null_dev:\n",
    "    #    null_dev = np.ones((len(active_set), ))\n",
    "    \n",
    "    for subindex, j in enumerate(active_set):\n",
    "        w_j = penalty_factors[j]\n",
    "        X_j = X[:,j].reshape(-1,1)\n",
    "\n",
    "        y_pred = X @ theta\n",
    "        rho = X_j.T @ (y - y_pred  + theta[j]*X_j)\n",
    "        z = np.sum(np.square(X_j))\n",
    "\n",
    "        if intercept == True:  \n",
    "            if j == 0:\n",
    "                tmp = rho / z\n",
    "                #if determine_null_dev:\n",
    "                #    null_dev[j] = np.abs(theta[j] - tmp)\n",
    "                if np.abs(tmp) < active_thresh:\n",
    "                    active_set_update[subindex] = False\n",
    "                if np.abs(theta[j] - tmp) < thresh:\n",
    "                    active_set_converged_check[subindex] = True\n",
    "                theta[j] =  tmp\n",
    "            else:\n",
    "                tmp = (1 / z) * soft_threshold(rho, lamda, w_j)\n",
    "                #if determine_null_dev:\n",
    "                #    null_dev[j] = np.abs(theta[j] - tmp)\n",
    "                if np.abs(tmp) < active_thresh:\n",
    "                    active_set_update[subindex] = False\n",
    "                if np.abs(theta[j] - tmp) < thresh:\n",
    "                    active_set_converged_check[subindex] = True\n",
    "                theta[j] =  tmp\n",
    "\n",
    "        else:\n",
    "            tmp = (1 / z) * soft_threshold(rho, lamda, w_j)\n",
    "            #if determine_null_dev:\n",
    "            #    null_dev[j] = np.abs(theta[j] - tmp)\n",
    "            if np.abs(tmp) < active_thresh:\n",
    "                active_set_update[subindex] = False\n",
    "            if np.abs(theta[j] - tmp) < thresh:\n",
    "                active_set_converged_check[subindex] = True\n",
    "            theta[j] =  tmp\n",
    "    \n",
    "    active_set_converged = np.all(active_set_converged_check)\n",
    "    active_set = active_set[active_set_update]\n",
    "    \n",
    "    #if determine_null_dev:\n",
    "    #    return  [theta, active_set, active_set_converged, null_dev]\n",
    "    #else:\n",
    "    return  [theta, active_set, active_set_converged]"
   ]
  },
  {
   "cell_type": "code",
   "execution_count": 87,
   "id": "blank-peace",
   "metadata": {},
   "outputs": [],
   "source": [
    "def get_lamda_path(X, y, epsilon = 0.0001, K = 100):\n",
    "    # Calculate lambda path\n",
    "    # get lambda_max\n",
    "    m, p = X.shape\n",
    "\n",
    "    y = y.reshape((m,1))\n",
    "    sx = X\n",
    "    sy = y\n",
    "\n",
    "    lambda_max = np.max(np.abs(np.sum(sx*sy, axis=0))) / m\n",
    "    lamda_path = np.exp(np.linspace(start= np.log(lambda_max), stop=np.log(lambda_max*epsilon),num= np.int64(K)))\n",
    "\n",
    "    return lamda_path"
   ]
  },
  {
   "cell_type": "code",
   "execution_count": 7,
   "id": "physical-cincinnati",
   "metadata": {},
   "outputs": [],
   "source": [
    "def adaptive_lasso_intercept(X , y, penalty_factors = None, theta = None, lamda_path = \"auto\", num_iters = 100, intercept = True, thresh = 1e-7, warm_start = True):\n",
    "    '''Coordinate gradient descent for lasso regression - for standardized data ''' \n",
    "    \n",
    "    #x_mean = X[:,:].mean(axis=0)\n",
    "    #x_std = X[:,:].std(axis=0)\n",
    "    \n",
    "    #m, p = X.shape\n",
    "    #x_mean = np.zeros((p,),dtype=np.float64)\n",
    "    #for i in range(p):\n",
    "    #    x_mean[i] = X[:,i].mean()\n",
    "        \n",
    "    #x_std = np.zeros((p,),dtype=np.float64)\n",
    "    #for i in range(p):\n",
    "    #    x_std[i] = X[:,i].std()\n",
    "    \n",
    "    x_mean = X.mean(axis=0)\n",
    "    x_std = X.std(axis=0)\n",
    "    \n",
    "    y_mean = np.mean(y)\n",
    "    y_std = np.std(y)\n",
    "\n",
    "    scaler = StandardScaler()\n",
    "    y = scaler.fit_transform(y)\n",
    "    X = scaler.fit_transform(X)\n",
    "    #X_std = (X - x_mean) / x_std\n",
    "    #y = (y - y_mean) / y_std\n",
    "    \n",
    "    if lamda_path == \"auto\":\n",
    "        path = get_lamda_path(X = X, y = y, epsilon = 0.0001, K = 100)\n",
    "    else:\n",
    "        path = [0.001]\n",
    "        \n",
    "    if intercept == True:\n",
    "        X = np.insert(X, 0, 1, axis=1)\n",
    "        #X = np.ones((m, p + 1))\n",
    "        #X[:,1:] = X_std\n",
    "    \n",
    "    m, p = X.shape\n",
    "\n",
    "    if theta is None:\n",
    "        theta = np.zeros((p,1))\n",
    "\n",
    "    if penalty_factors is None:\n",
    "        penalty_factors = np.ones((p,1))\n",
    "\n",
    "    result = []\n",
    "    for lamda in path:\n",
    "        output = {}\n",
    "        output['lamda'] = lamda\n",
    "        tol_vals = np.full((p, ), False)\n",
    "        \n",
    "        #print(\"next lamda\")\n",
    "        for i in range(num_iters):\n",
    "            #print(f\"Theta before loop {i} : {theta}\")\n",
    "            if not np.all(tol_vals):\n",
    "                for j in range(p):\n",
    "                    #print(\"start_theta:\")\n",
    "                    #print(theta)\n",
    "                    w_j = penalty_factors[j]\n",
    "                    X_j = X[:,j].reshape(-1,1)\n",
    "\n",
    "                    y_pred = X @ theta\n",
    "                    rho = X_j.T @ (y - y_pred  + theta[j]*X_j)\n",
    "                    z = np.sum(np.square(X_j))\n",
    "\n",
    "                    if intercept == True:  \n",
    "                        if j == 0:\n",
    "                            if np.abs(theta[j] - rho / z ) < thresh:\n",
    "                                tol_vals[j] = True\n",
    "                            theta[j] =  rho / z\n",
    "                        else:\n",
    "                            if np.abs(theta[j] - (1 / z) * soft_threshold(rho, lamda, w_j)) < thresh:\n",
    "                                tol_vals[j] = True\n",
    "                            theta[j] =  (1 / z) * soft_threshold(rho, lamda, w_j) \n",
    "\n",
    "                    else:\n",
    "                        if np.abs(theta[j] - (1 / z) * soft_threshold(rho, lamda, w_j)) < thresh:\n",
    "                                tol_vals[j] = True\n",
    "                        theta[j] =  (1 / z) * soft_threshold(rho, lamda, w_j)\n",
    "            else:\n",
    "                break\n",
    "            #print(f\"Theta after loop {i} : {theta}\")\n",
    "                \n",
    "            \n",
    "        if intercept == False:\n",
    "            theta_nat = theta.flatten() / x_std * y_std\n",
    "        if intercept == True:\n",
    "            theta_0 = (theta.flatten()[0] - np.sum((x_mean / x_std) * theta.flatten()[1:])) * y_std + y_mean\n",
    "            theta_betas = theta.flatten()[1:] / x_std * y_std\n",
    "            theta_nat = np.insert(arr = theta_betas, obj = 0, values= theta_0)\n",
    "\n",
    "        output['theta_std'] = theta.flatten()\n",
    "        output['theta_nat'] = theta_nat\n",
    "        result.append(output)\n",
    "    \n",
    "    return result"
   ]
  },
  {
   "cell_type": "code",
   "execution_count": 88,
   "id": "oriental-armenia",
   "metadata": {},
   "outputs": [],
   "source": [
    "def sk_lasso():\n",
    "    path = get_lamda_path(X = X, y = y, epsilon = 0.0001, K = 100)\n",
    "    scaler = StandardScaler()\n",
    "    X_std = scaler.fit_transform(X)\n",
    "    y_std = scaler.fit_transform(y)\n",
    "    y_std = y_std.flatten()\n",
    "\n",
    "    for i in path:\n",
    "        reg = Lasso(alpha= i, fit_intercept = True)\n",
    "        reg.fit(X_std, y_std)"
   ]
  },
  {
   "cell_type": "code",
   "execution_count": 40,
   "id": "dirty-mouth",
   "metadata": {},
   "outputs": [],
   "source": [
    "def adaptive_lasso(X , y, penalty_factors = None, theta = None, lamda_path = \"auto\", num_iters = 100, intercept = True, thresh = 1e-7, active_thresh = 1e-7):\n",
    "    x_mean = X.mean(axis=0)\n",
    "    x_std = X.std(axis=0)\n",
    "    \n",
    "    y_mean = np.mean(y)\n",
    "    y_std = np.std(y)\n",
    "\n",
    "    X = (X - x_mean) / x_std\n",
    "    y = (y - y_mean) / y_std\n",
    "\n",
    "    if lamda_path == \"auto\":\n",
    "        path = get_lamda_path(X = X, y = y, epsilon = 0.0001, K = 100)\n",
    "    else:\n",
    "        path = lamda_path\n",
    "    \n",
    "    if intercept == True:\n",
    "        X = np.insert(X, 0, 1, axis=1)\n",
    "\n",
    "    m, p = X.shape\n",
    "\n",
    "    if theta is None:\n",
    "        theta = np.zeros((p,1))\n",
    "\n",
    "    if penalty_factors is None:\n",
    "        penalty_factors = np.ones((p,1))\n",
    "\n",
    "    result = []\n",
    "    for lamda in path:\n",
    "        output = {}\n",
    "        output['lamda'] = lamda\n",
    "        sec_check_all_converged = False\n",
    "        active_set = np.arange(p)\n",
    "        active_set_converged = False\n",
    "        \n",
    "        for i in range(num_iters): \n",
    "            #print(str(i))\n",
    "             #if i == 0:\n",
    "             #   theta, active_set, active_set_converged, null_dev = update_coeffs(X = X, \n",
    "             #                                                           y = y,\n",
    "             #                                                           theta = theta, \n",
    "             #                                                           active_set = active_set, \n",
    "             #                                                           penalty_factors = penalty_factors, \n",
    "             #                                                           intercept = intercept, \n",
    "             #                                                           lamda = lamda, \n",
    "             #                                                           thresh = thresh, \n",
    "             #                                                           active_thresh = active_thresh,\n",
    "             #                                                           determine_null_dev = True)\n",
    "                #thresh_inner = thresh_inner * null_dev\n",
    "                #print(\"Done\")\n",
    "            if (active_set.size != 0) and (not active_set_converged):\n",
    "                theta, active_set, active_set_converged = update_coeffs(X = X, \n",
    "                                                                        y = y,\n",
    "                                                                        theta = theta, \n",
    "                                                                        active_set = active_set, \n",
    "                                                                        penalty_factors = penalty_factors, \n",
    "                                                                        intercept = intercept, \n",
    "                                                                        lamda = lamda, \n",
    "                                                                        thresh = thresh, \n",
    "                                                                        active_thresh = active_thresh)\n",
    "            elif not sec_check_all_converged:\n",
    "                active_set = np.arange(p)\n",
    "                theta, active_set, active_set_converged = update_coeffs(X = X,\n",
    "                                                                        y = y,\n",
    "                                                                        theta = theta, \n",
    "                                                                        active_set = active_set, \n",
    "                                                                        penalty_factors = penalty_factors, \n",
    "                                                                        intercept = intercept, \n",
    "                                                                        lamda = lamda, \n",
    "                                                                        thresh = thresh, \n",
    "                                                                        active_thresh = active_thresh)\n",
    "                #print(f\"Theta before loop {i} : {theta}\")\n",
    "                #print(active_set)\n",
    "                #print(\"Active_set_converged:\")\n",
    "                #print(active_set_converged)\n",
    "                \n",
    "                if active_set_converged:\n",
    "                    #print(\"Sec. check successful!\")\n",
    "                    sec_check_all_converged = True\n",
    "                    #print(f\"Final theta : {theta}\")\n",
    "                    break\n",
    "            else:\n",
    "                break\n",
    "\n",
    "\n",
    "        if intercept == False:\n",
    "            theta_nat = theta.flatten() / x_std * y_std\n",
    "        if intercept == True:\n",
    "            theta_0 = (theta.flatten()[0] - np.sum((x_mean / x_std) * theta.flatten()[1:])) * y_std + y_mean\n",
    "            theta_betas = theta.flatten()[1:] / x_std * y_std\n",
    "            theta_nat = np.insert(arr = theta_betas, obj = 0, values= theta_0)\n",
    "\n",
    "        output['theta_std'] = theta.flatten()\n",
    "        output['theta_nat'] = theta_nat\n",
    "        result.append(output)\n",
    "\n",
    "    return result"
   ]
  },
  {
   "cell_type": "code",
   "execution_count": 37,
   "id": "electrical-collapse",
   "metadata": {},
   "outputs": [],
   "source": [
    "np.random.seed(seed=1)\n",
    "X = np.random.rand(4000,300)\n",
    "y = np.array(1.5 * X[:,0] - 14.5 * X[:,1] + 5, dtype=np.float64).reshape(-1,1)"
   ]
  },
  {
   "cell_type": "code",
   "execution_count": 81,
   "id": "immediate-importance",
   "metadata": {},
   "outputs": [
    {
     "ename": "KeyboardInterrupt",
     "evalue": "",
     "output_type": "error",
     "traceback": [
      "\u001b[0;31m---------------------------------------------------------------------------\u001b[0m",
      "\u001b[0;31mKeyboardInterrupt\u001b[0m                         Traceback (most recent call last)",
      "\u001b[0;32m<timed exec>\u001b[0m in \u001b[0;36m<module>\u001b[0;34m\u001b[0m\n",
      "\u001b[0;32m<ipython-input-41-1d9f0b846015>\u001b[0m in \u001b[0;36madaptive_lasso_intercept\u001b[0;34m(X, y, penalty_factors, theta, lamda_path, num_iters, intercept, thresh, warm_start)\u001b[0m\n\u001b[1;32m     60\u001b[0m                     \u001b[0mX_j\u001b[0m \u001b[0;34m=\u001b[0m \u001b[0mX\u001b[0m\u001b[0;34m[\u001b[0m\u001b[0;34m:\u001b[0m\u001b[0;34m,\u001b[0m\u001b[0mj\u001b[0m\u001b[0;34m]\u001b[0m\u001b[0;34m.\u001b[0m\u001b[0mreshape\u001b[0m\u001b[0;34m(\u001b[0m\u001b[0;34m-\u001b[0m\u001b[0;36m1\u001b[0m\u001b[0;34m,\u001b[0m\u001b[0;36m1\u001b[0m\u001b[0;34m)\u001b[0m\u001b[0;34m\u001b[0m\u001b[0;34m\u001b[0m\u001b[0m\n\u001b[1;32m     61\u001b[0m \u001b[0;34m\u001b[0m\u001b[0m\n\u001b[0;32m---> 62\u001b[0;31m                     \u001b[0my_pred\u001b[0m \u001b[0;34m=\u001b[0m \u001b[0mX\u001b[0m \u001b[0;34m@\u001b[0m \u001b[0mtheta\u001b[0m\u001b[0;34m\u001b[0m\u001b[0;34m\u001b[0m\u001b[0m\n\u001b[0m\u001b[1;32m     63\u001b[0m                     \u001b[0mrho\u001b[0m \u001b[0;34m=\u001b[0m \u001b[0mX_j\u001b[0m\u001b[0;34m.\u001b[0m\u001b[0mT\u001b[0m \u001b[0;34m@\u001b[0m \u001b[0;34m(\u001b[0m\u001b[0my\u001b[0m \u001b[0;34m-\u001b[0m \u001b[0my_pred\u001b[0m  \u001b[0;34m+\u001b[0m \u001b[0mtheta\u001b[0m\u001b[0;34m[\u001b[0m\u001b[0mj\u001b[0m\u001b[0;34m]\u001b[0m\u001b[0;34m*\u001b[0m\u001b[0mX_j\u001b[0m\u001b[0;34m)\u001b[0m\u001b[0;34m\u001b[0m\u001b[0;34m\u001b[0m\u001b[0m\n\u001b[1;32m     64\u001b[0m                     \u001b[0mz\u001b[0m \u001b[0;34m=\u001b[0m \u001b[0mnp\u001b[0m\u001b[0;34m.\u001b[0m\u001b[0msum\u001b[0m\u001b[0;34m(\u001b[0m\u001b[0mnp\u001b[0m\u001b[0;34m.\u001b[0m\u001b[0msquare\u001b[0m\u001b[0;34m(\u001b[0m\u001b[0mX_j\u001b[0m\u001b[0;34m)\u001b[0m\u001b[0;34m)\u001b[0m\u001b[0;34m\u001b[0m\u001b[0;34m\u001b[0m\u001b[0m\n",
      "\u001b[0;31mKeyboardInterrupt\u001b[0m: "
     ]
    }
   ],
   "source": [
    "%%time\n",
    "res_old = adaptive_lasso_intercept(X = X , y =y)"
   ]
  },
  {
   "cell_type": "code",
   "execution_count": 74,
   "id": "foster-arrow",
   "metadata": {},
   "outputs": [
    {
     "name": "stdout",
     "output_type": "stream",
     "text": [
      "CPU times: user 4.6 s, sys: 243 ms, total: 4.84 s\n",
      "Wall time: 1.57 s\n"
     ]
    }
   ],
   "source": [
    "%%time\n",
    "res = adaptive_lasso(X = X, y = y, lamda_path = \"auto\", thresh = 1e-7, active_thresh = 1e-7)"
   ]
  },
  {
   "cell_type": "code",
   "execution_count": 38,
   "id": "false-religion",
   "metadata": {},
   "outputs": [
    {
     "name": "stdout",
     "output_type": "stream",
     "text": [
      "CPU times: user 7.64 s, sys: 370 ms, total: 8.01 s\n",
      "Wall time: 2.23 s\n"
     ]
    }
   ],
   "source": [
    "%%time\n",
    "sk_lasso()"
   ]
  },
  {
   "cell_type": "code",
   "execution_count": 44,
   "id": "fantastic-appendix",
   "metadata": {},
   "outputs": [
    {
     "name": "stdout",
     "output_type": "stream",
     "text": [
      "CPU times: user 2min 41s, sys: 1.86 s, total: 2min 43s\n",
      "Wall time: 42.6 s\n"
     ]
    }
   ],
   "source": [
    "%%time\n",
    "res = adaptive_lasso_numba(X = X, y = y, lamda_path = \"auto\")"
   ]
  },
  {
   "cell_type": "code",
   "execution_count": 43,
   "id": "accomplished-privacy",
   "metadata": {},
   "outputs": [
    {
     "name": "stdout",
     "output_type": "stream",
     "text": [
      "CPU times: user 2min 20s, sys: 1.53 s, total: 2min 21s\n",
      "Wall time: 36.8 s\n"
     ]
    }
   ],
   "source": [
    "%%time\n",
    "res = adaptive_lasso_numba_intercept(X = X, y = y, lamda_path = \"auto\")"
   ]
  },
  {
   "cell_type": "code",
   "execution_count": 29,
   "id": "continent-mercy",
   "metadata": {},
   "outputs": [],
   "source": [
    "import matplotlib.pyplot as plt "
   ]
  },
  {
   "cell_type": "code",
   "execution_count": 31,
   "id": "prescription-province",
   "metadata": {},
   "outputs": [
    {
     "data": {
      "image/png": "[encoded data removed]",
      "text/plain": [
       "<Figure size 432x288 with 1 Axes>"
      ]
     },
     "metadata": {
      "needs_background": "light"
     },
     "output_type": "display_data"
    }
   ],
   "source": [
    "# evenly sampled time at 200ms intervals\n",
    "t = [200,100,500, 1000]\n",
    "\n",
    "# red dashes, blue squares and green triangles\n",
    "plt.plot(t, [0.890,0.447, 4.06, 30.7] , 'r--', t, [0.286,0.206, 0.586, 1.01], 'b--')\n",
    "plt.show()"
   ]
  },
  {
   "cell_type": "code",
   "execution_count": 31,
   "id": "strange-damages",
   "metadata": {},
   "outputs": [],
   "source": [
    "@njit\n",
    "def soft_threshold_numba(rho, lamda, w):\n",
    "    if rho < - lamda * w:\n",
    "        return rho + lamda * w\n",
    "    elif rho >  lamda * w:\n",
    "        return rho - lamda * w\n",
    "    else: \n",
    "        return 0.0"
   ]
  },
  {
   "cell_type": "code",
   "execution_count": 41,
   "id": "minor-encounter",
   "metadata": {},
   "outputs": [],
   "source": [
    "@njit\n",
    "def adaptive_lasso_numba_intercept(X , y, penalty_factors = None, theta = None, lamda_path = None, num_iters = 100, intercept = True, thresh = 1e-7):\n",
    "    '''Coordinate gradient descent for lasso regression - for standardized data ''' \n",
    "    \n",
    "    m, p = X.shape\n",
    "    x_mean = np.zeros((p,),dtype=np.float64)\n",
    "    for i in range(p):\n",
    "        x_mean[i] = X[:,i].mean()\n",
    "        \n",
    "    x_std = np.zeros((p,),dtype=np.float64)\n",
    "    for i in range(p):\n",
    "        x_std[i] = X[:,i].std()\n",
    "    \n",
    "    \n",
    "    y_mean = np.mean(y)\n",
    "    y_std = np.std(y)\n",
    "\n",
    "    X = (X - x_mean) / x_std\n",
    "    y = (y - y_mean) / y_std\n",
    "    \n",
    "    #if lamda_path == \"auto\":\n",
    "    #    path = [0.001]\n",
    "    path = [2.857874270239155,\n",
    " 2.603988596702651,\n",
    " 2.3726574266648925,\n",
    " 2.1618770801978675,\n",
    " 1.9698218787759958,\n",
    " 1.7948283321221274,\n",
    " 1.6353807298505643,\n",
    " 1.4900980131088004,\n",
    " 1.357721812506429,\n",
    " 1.2371055487214755,\n",
    " 1.1272045013788243,\n",
    " 1.0270667601821153,\n",
    " 0.9358249799221423,\n",
    " 0.8526888679475817,\n",
    " 0.7769383390281148,\n",
    " 0.7079172783206475,\n",
    " 0.6450278584164171,\n",
    " 0.5877253612459741,\n",
    " 0.5355134599918534,\n",
    " 0.4879399201431188,\n",
    " 0.44459268245637595,\n",
    " 0.40509629389573,\n",
    " 0.3691086556382036,\n",
    " 0.33631805997738856,\n",
    " 0.3064404904604118,\n",
    " 0.27921716187329104,\n",
    " 0.2544122787672127,\n",
    " 0.23181099311115563,\n",
    " 0.21121754338102922,\n",
    " 0.19245355896700148,\n",
    " 0.17535651521260795,\n",
    " 0.15977832570392755,\n",
    " 0.14558405961590895,\n",
    " 0.13265077300611328,\n",
    " 0.1208664439331003,\n",
    " 0.11012900217596196,\n",
    " 0.1003454451508982,\n",
    " 0.09143103236732805,\n",
    " 0.08330855144629912,\n",
    " 0.07590764934379896,\n",
    " 0.06916422298634396,\n",
    " 0.06301986404082344,\n",
    " 0.05742135300946009,\n",
    " 0.05232019826798009,\n",
    " 0.0476722160543616,\n",
    " 0.043437147770225164,\n",
    " 0.03957831128011415,\n",
    " 0.03606228318838558,\n",
    " 0.03285860934174666,\n",
    " 0.02993954104994806,\n",
    " 0.027279794739903485,\n",
    " 0.024856332961475294,\n",
    " 0.022648164848102118,\n",
    " 0.020636164303954655,\n",
    " 0.018802904342843405,\n",
    " 0.017132506144001115,\n",
    " 0.0156105015173336,\n",
    " 0.014223707586878702,\n",
    " 0.012960112607041186,\n",
    " 0.011808771922598759,\n",
    " 0.010759713171334284,\n",
    " 0.009803849908205072,\n",
    " 0.008932902902902731,\n",
    " 0.008139328429120903,\n",
    " 0.007416252924406953,\n",
    " 0.006757413454652204,\n",
    " 0.006157103467552789,\n",
    " 0.0056101233651836314,\n",
    " 0.0051117354675686184,\n",
    " 0.0046576229771631275,\n",
    " 0.004243852588818783,\n",
    " 0.0038668404213759743,\n",
    " 0.003523320975799717,\n",
    " 0.0032103188509891834,\n",
    " 0.0029251229722768134,\n",
    " 0.002665263109396476,\n",
    " 0.002428488480530631,\n",
    " 0.0022127482571150047,\n",
    " 0.0020161738005426556,\n",
    " 0.0018370624769102856,\n",
    " 0.0016738629096179224,\n",
    " 0.0015251615420869573,\n",
    " 0.0013896703942093034,\n",
    " 0.0012662159064798467,\n",
    " 0.001153728775185449,\n",
    " 0.0010512346906077228,\n",
    " 0.0009578458980183457,\n",
    " 0.0008727535083723128,\n",
    " 0.0007952204920979788,\n",
    " 0.0007245752952995095,\n",
    " 0.0006602060230782952,\n",
    " 0.0006015551395920666,\n",
    " 0.000548114638946145,\n",
    " 0.0004994216450894154,\n",
    " 0.000455054402603404,\n",
    " 0.0004146286236586048,\n",
    " 0.0003777941594971461,\n",
    " 0.0003442319676117548,\n",
    " 0.00031365134835218414,\n",
    " 0.0002857874270239154]\n",
    "        \n",
    "    if intercept == True:\n",
    "        X_tmp = np.ones((m, p + 1))\n",
    "        X_tmp[:,1:] = X\n",
    "        X = X_tmp\n",
    "    \n",
    "    m, p = X.shape\n",
    "\n",
    "    if theta is None:\n",
    "        theta = np.zeros((p,1))\n",
    "\n",
    "    if penalty_factors is None:\n",
    "        penalty_factors = np.ones((p,1))\n",
    "\n",
    "    lamdas = []\n",
    "    thetas = []\n",
    "    thetas_nat = []\n",
    "    for lamda in path:\n",
    "        tol_vals = np.full((p, ), False)\n",
    "        \n",
    "        for i in range(num_iters):\n",
    "            #print(f\"Theta before loop {i} : {theta}\")\n",
    "            if not np.all(tol_vals):\n",
    "                for j in range(p):\n",
    "                    #print(\"start_theta:\")\n",
    "                    #print(theta)\n",
    "                    w_j = penalty_factors[j].item()\n",
    "                    #X_j = X[:,[j]]\n",
    "\n",
    "                    y_pred = X @ theta\n",
    "                    rho = 0.0\n",
    "                    z = 0.0\n",
    "                    for obs in range(m):\n",
    "                        rho += X[obs,j].item() * (y[obs].item() - y_pred[obs].item() + theta[j].item() * X[obs,j].item())\n",
    "                        z += np.square(X[obs,j].item())\n",
    "\n",
    "                    if intercept == True:  \n",
    "                        if j == 0:\n",
    "                            if np.abs(theta[j] - rho / z ) < thresh:\n",
    "                                tol_vals[j] = True\n",
    "                            theta[j] =  rho / z\n",
    "                        else:\n",
    "                            if np.abs(theta[j] - (1 / z) * soft_threshold_numba(rho, lamda, w_j)) < thresh:\n",
    "                                tol_vals[j] = True\n",
    "                            theta[j] =  (1 / z) * soft_threshold_numba(rho, lamda, w_j) \n",
    "\n",
    "                    else:\n",
    "                        if np.abs(theta[j] - (1 / z) * soft_threshold_numba(rho, lamda, w_j)) < thresh:\n",
    "                                tol_vals[j] = True\n",
    "                        theta[j] =  (1 / z) * soft_threshold_numba(rho, lamda, w_j)\n",
    "            else:\n",
    "                break\n",
    "            #print(f\"Theta after loop {i} : {theta}\")\n",
    "                \n",
    "            \n",
    "        if intercept == False:\n",
    "            theta_tmp = theta.flatten() / x_std * y_std\n",
    "        if intercept == True:\n",
    "            theta_0 = (theta.flatten()[0] - np.sum((x_mean / x_std) * theta.flatten()[1:])) * y_std + y_mean\n",
    "            theta_betas = theta.flatten()[1:] / x_std * y_std\n",
    "            theta_tmp = np.ones((p,))\n",
    "            theta_tmp[1:] = theta_betas\n",
    "            theta_tmp[0] = theta_0\n",
    "\n",
    "        #output[1] = theta\n",
    "        #output[2] = theta_nat\n",
    "        lamdas.append(lamda)\n",
    "        thetas.append(theta)\n",
    "        thetas_nat.append(theta_tmp)\n",
    "  \n",
    "    \n",
    "    return lamdas,thetas,thetas_nat"
   ]
  },
  {
   "cell_type": "code",
   "execution_count": 9,
   "id": "provincial-library",
   "metadata": {},
   "outputs": [],
   "source": [
    "@njit\n",
    "def update_coeffs_numba(X, y, theta, active_set, penalty_factors, intercept, lamda, thresh, active_thresh):\n",
    "    active_set_converged_check = np.full((len(active_set), ), False)\n",
    "    active_set_update = np.full((len(active_set), ), True)\n",
    "    \n",
    "    m, p = X.shape\n",
    "    \n",
    "    rho = []\n",
    "    z = []\n",
    "    for j in range(p):\n",
    "        rho_j = 0.0\n",
    "        z_j = 0.0\n",
    "        for obs in range(m):\n",
    "                rho_j += X[obs,j].item() * (y[obs].item() - y_pred[obs].item() + theta[j].item() * X[obs,j].item())\n",
    "                z_j += np.square(X[obs,j].item())\n",
    "                \n",
    "        rho.append(rho_j)\n",
    "        z.append(z_j)\n",
    "                \n",
    "            \n",
    "    for subindex, j in enumerate(active_set):\n",
    "        w_j = penalty_factors[j].item()\n",
    "        \n",
    "        y_pred = X @ theta\n",
    "        #rho = 0.0\n",
    "        #z = 0.0\n",
    "        \n",
    "        #for obs in range(m):\n",
    "        #    rho += X[obs,j].item() * (y[obs].item() - y_pred[obs].item() + theta[j].item() * X[obs,j].item())\n",
    "        #    z += np.square(X[obs,j].item())\n",
    "\n",
    "        if intercept == True:  \n",
    "            if j == 0:\n",
    "                tmp = rho / z\n",
    "                if np.abs(tmp) < active_thresh:\n",
    "                    active_set_update[subindex] = False\n",
    "                if np.abs(theta[j] - tmp) < thresh:\n",
    "                    active_set_converged_check[subindex] = True\n",
    "                theta[j] =  tmp\n",
    "            else:\n",
    "                tmp = (1 / z) * soft_threshold_numba(rho, lamda, w_j)\n",
    "                if np.abs(tmp) < active_thresh:\n",
    "                    active_set_update[subindex] = False\n",
    "                if np.abs(theta[j] - tmp) < thresh:\n",
    "                    active_set_converged_check[subindex] = True\n",
    "                theta[j] =  tmp\n",
    "\n",
    "        else:\n",
    "            tmp = (1 / z) * soft_threshold_numba(rho, lamda, w_j)\n",
    "            if np.abs(tmp) < active_thresh:\n",
    "                active_set_update[subindex] = False\n",
    "            if np.abs(theta[j] - tmp) < thresh:\n",
    "                active_set_converged_check[subindex] = True\n",
    "            theta[j] =  tmp\n",
    "    \n",
    "    active_set_converged = np.all(active_set_converged_check)\n",
    "    active_set = active_set[active_set_update]\n",
    "    \n",
    "    return  [theta, active_set, active_set_converged]"
   ]
  },
  {
   "cell_type": "code",
   "execution_count": 32,
   "id": "protecting-fourth",
   "metadata": {},
   "outputs": [],
   "source": [
    "@njit\n",
    "def adaptive_lasso_numba(X , y, penalty_factors = None, theta = None, lamda_path = \"auto\", num_iters = 100, intercept = True, thresh = 1e-2, active_thresh = 1e-2):\n",
    "    \n",
    "    m, p = X.shape\n",
    "    \n",
    "    x_mean = np.zeros((p,),dtype=np.float64)\n",
    "    \n",
    "    for i in range(p):\n",
    "        x_mean[i] = X[:,i].mean()\n",
    "        \n",
    "    x_std = np.zeros((p,),dtype=np.float64)\n",
    "    \n",
    "    for i in range(p):\n",
    "        x_std[i] = X[:,i].std()\n",
    "    \n",
    "    \n",
    "    y_mean = np.mean(y)\n",
    "    y_std = np.std(y)\n",
    "\n",
    "    X = (X - x_mean) / x_std\n",
    "    y = (y - y_mean) / y_std\n",
    "    \n",
    "\n",
    "    path = [2.857874270239155,\n",
    "             2.603988596702651,\n",
    "             2.3726574266648925,\n",
    "             2.1618770801978675,\n",
    "             1.9698218787759958,\n",
    "             1.7948283321221274,\n",
    "             1.6353807298505643,\n",
    "             1.4900980131088004,\n",
    "             1.357721812506429,\n",
    "             1.2371055487214755,\n",
    "             1.1272045013788243,\n",
    "             1.0270667601821153,\n",
    "             0.9358249799221423,\n",
    "             0.8526888679475817,\n",
    "             0.7769383390281148,\n",
    "             0.7079172783206475,\n",
    "             0.6450278584164171,\n",
    "             0.5877253612459741,\n",
    "             0.5355134599918534,\n",
    "             0.4879399201431188,\n",
    "             0.44459268245637595,\n",
    "             0.40509629389573,\n",
    "             0.3691086556382036,\n",
    "             0.33631805997738856,\n",
    "             0.3064404904604118,\n",
    "             0.27921716187329104,\n",
    "             0.2544122787672127,\n",
    "             0.23181099311115563,\n",
    "             0.21121754338102922,\n",
    "             0.19245355896700148,\n",
    "             0.17535651521260795,\n",
    "             0.15977832570392755,\n",
    "             0.14558405961590895,\n",
    "             0.13265077300611328,\n",
    "             0.1208664439331003,\n",
    "             0.11012900217596196,\n",
    "             0.1003454451508982,\n",
    "             0.09143103236732805,\n",
    "             0.08330855144629912,\n",
    "             0.07590764934379896,\n",
    "             0.06916422298634396,\n",
    "             0.06301986404082344,\n",
    "             0.05742135300946009,\n",
    "             0.05232019826798009,\n",
    "             0.0476722160543616,\n",
    "             0.043437147770225164,\n",
    "             0.03957831128011415,\n",
    "             0.03606228318838558,\n",
    "             0.03285860934174666,\n",
    "             0.02993954104994806,\n",
    "             0.027279794739903485,\n",
    "             0.024856332961475294,\n",
    "             0.022648164848102118,\n",
    "             0.020636164303954655,\n",
    "             0.018802904342843405,\n",
    "             0.017132506144001115,\n",
    "             0.0156105015173336,\n",
    "             0.014223707586878702,\n",
    "             0.012960112607041186,\n",
    "             0.011808771922598759,\n",
    "             0.010759713171334284,\n",
    "             0.009803849908205072,\n",
    "             0.008932902902902731,\n",
    "             0.008139328429120903,\n",
    "             0.007416252924406953,\n",
    "             0.006757413454652204,\n",
    "             0.006157103467552789,\n",
    "             0.0056101233651836314,\n",
    "             0.0051117354675686184,\n",
    "             0.0046576229771631275,\n",
    "             0.004243852588818783,\n",
    "             0.0038668404213759743,\n",
    "             0.003523320975799717,\n",
    "             0.0032103188509891834,\n",
    "             0.0029251229722768134,\n",
    "             0.002665263109396476,\n",
    "             0.002428488480530631,\n",
    "             0.0022127482571150047,\n",
    "             0.0020161738005426556,\n",
    "             0.0018370624769102856,\n",
    "             0.0016738629096179224,\n",
    "             0.0015251615420869573,\n",
    "             0.0013896703942093034,\n",
    "             0.0012662159064798467,\n",
    "             0.001153728775185449,\n",
    "             0.0010512346906077228,\n",
    "             0.0009578458980183457,\n",
    "             0.0008727535083723128,\n",
    "             0.0007952204920979788,\n",
    "             0.0007245752952995095,\n",
    "             0.0006602060230782952,\n",
    "             0.0006015551395920666,\n",
    "             0.000548114638946145,\n",
    "             0.0004994216450894154,\n",
    "             0.000455054402603404,\n",
    "             0.0004146286236586048,\n",
    "             0.0003777941594971461,\n",
    "             0.0003442319676117548,\n",
    "             0.00031365134835218414,\n",
    "             0.0002857874270239154]\n",
    "    \n",
    "    if intercept == True:\n",
    "        X_tmp = np.ones((m, p + 1))\n",
    "        X_tmp[:,1:] = X\n",
    "        X = X_tmp\n",
    "    \n",
    "    m, p = X.shape\n",
    "\n",
    "    if theta is None:\n",
    "        theta = np.zeros((p,1))\n",
    "\n",
    "    if penalty_factors is None:\n",
    "        penalty_factors = np.ones((p,1))\n",
    "\n",
    "    lamdas = []\n",
    "    thetas = []\n",
    "    thetas_nat = []\n",
    "    \n",
    "    for lamda in path:\n",
    "        sec_check_all_converged = False\n",
    "        active_set = np.arange(p)\n",
    "        active_set_converged = False\n",
    "        \n",
    "        for i in range(num_iters): \n",
    "            if (active_set.size != 0) and (not active_set_converged):\n",
    "                active_set_converged_check = np.full((len(active_set), ), False)\n",
    "                active_set_update = np.full((len(active_set), ), True)\n",
    "\n",
    "                for subindex, j in enumerate(active_set):\n",
    "                    w_j = penalty_factors[j].item()\n",
    "\n",
    "                    y_pred = X @ theta\n",
    "                    \n",
    "                    rho = 0.0\n",
    "                    z = 0.0\n",
    "\n",
    "                    for obs in range(m):\n",
    "                        rho += X[obs,j].item() * (y[obs].item() - y_pred[obs].item() + theta[j].item() * X[obs,j].item())\n",
    "                        z += np.square(X[obs,j].item())\n",
    "                \n",
    "                    ###\n",
    "                    if intercept == True:  \n",
    "                        if j == 0:\n",
    "                            tmp = rho / z\n",
    "                            if np.abs(tmp) < active_thresh:\n",
    "                                active_set_update[subindex] = False\n",
    "                            if np.abs(theta[j] - tmp) < thresh:\n",
    "                                active_set_converged_check[subindex] = True\n",
    "                            theta[j] =  tmp\n",
    "                        else:\n",
    "                            tmp = (1 / z) * soft_threshold_numba(rho, lamda, w_j)\n",
    "                            if np.abs(tmp) < active_thresh:\n",
    "                                active_set_update[subindex] = False\n",
    "                            if np.abs(theta[j] - tmp) < thresh:\n",
    "                                active_set_converged_check[subindex] = True\n",
    "                            theta[j] =  tmp\n",
    "\n",
    "                    else:\n",
    "                        tmp = (1 / z) * soft_threshold_numba(rho, lamda, w_j)\n",
    "                        if np.abs(tmp) < active_thresh:\n",
    "                            active_set_update[subindex] = False\n",
    "                        if np.abs(theta[j] - tmp) < thresh:\n",
    "                            active_set_converged_check[subindex] = True\n",
    "                        theta[j] =  tmp\n",
    "\n",
    "                active_set_converged = np.all(active_set_converged_check)\n",
    "                active_set = active_set[active_set_update]\n",
    "                \n",
    "            elif not sec_check_all_converged:\n",
    "                active_set = np.arange(p)\n",
    "                \n",
    "                active_set_converged_check = np.full((len(active_set), ), False)\n",
    "                active_set_update = np.full((len(active_set), ), True)\n",
    "\n",
    "                m, p = X.shape\n",
    "\n",
    "                for subindex, j in enumerate(active_set):\n",
    "                    w_j = penalty_factors[j].item()\n",
    "\n",
    "                    y_pred = X @ theta\n",
    "                    rho = 0.0\n",
    "                    z = 0.0\n",
    "\n",
    "                    for obs in range(m):\n",
    "                        rho += X[obs,j].item() * (y[obs].item() - y_pred[obs].item() + theta[j].item() * X[obs,j].item())\n",
    "                        z += np.square(X[obs,j].item())\n",
    "\n",
    "                    if intercept == True:  \n",
    "                        if j == 0:\n",
    "                            tmp = rho / z\n",
    "                            if np.abs(tmp) < active_thresh:\n",
    "                                active_set_update[subindex] = False\n",
    "                            if np.abs(theta[j] - tmp) < thresh:\n",
    "                                active_set_converged_check[subindex] = True\n",
    "                            theta[j] =  tmp\n",
    "                        else:\n",
    "                            tmp = (1 / z) * soft_threshold_numba(rho, lamda, w_j)\n",
    "                            if np.abs(tmp) < active_thresh:\n",
    "                                active_set_update[subindex] = False\n",
    "                            if np.abs(theta[j] - tmp) < thresh:\n",
    "                                active_set_converged_check[subindex] = True\n",
    "                            theta[j] =  tmp\n",
    "\n",
    "                    else:\n",
    "                        tmp = (1 / z) * soft_threshold_numba(rho, lamda, w_j)\n",
    "                        if np.abs(tmp) < active_thresh:\n",
    "                            active_set_update[subindex] = False\n",
    "                        if np.abs(theta[j] - tmp) < thresh:\n",
    "                            active_set_converged_check[subindex] = True\n",
    "                        theta[j] =  tmp\n",
    "\n",
    "                active_set_converged = np.all(active_set_converged_check)\n",
    "                active_set = active_set[active_set_update]\n",
    "                \n",
    "                if active_set_converged:\n",
    "                    sec_check_all_converged = True\n",
    "                    break\n",
    "            else:\n",
    "                break\n",
    "            \n",
    "        if intercept == False:\n",
    "            theta_tmp = theta.flatten() / x_std * y_std\n",
    "        if intercept == True:\n",
    "            theta_0 = (theta.flatten()[0] - np.sum((x_mean / x_std) * theta.flatten()[1:])) * y_std + y_mean\n",
    "            theta_betas = theta.flatten()[1:] / x_std * y_std\n",
    "            theta_tmp = np.ones((p,))\n",
    "            theta_tmp[1:] = theta_betas\n",
    "            theta_tmp[0] = theta_0\n",
    "        \n",
    "        \n",
    "        lamdas.append(lamda)\n",
    "        thetas.append(theta)\n",
    "        thetas_nat.append(theta_tmp)\n",
    "\n",
    "    return lamdas,thetas,thetas_nat"
   ]
  },
  {
   "cell_type": "code",
   "execution_count": 170,
   "id": "western-mason",
   "metadata": {},
   "outputs": [],
   "source": [
    "def eps_thresh_adaptive_lasso(X , y, penalty_factors = None, theta = None, lamda_path = \"auto\", num_iters = 100, intercept = True, thresh = 1e-7):\n",
    "    '''Coordinate gradient descent for lasso regression - for standardized data ''' \n",
    "    x_mean = X.mean(axis=0)\n",
    "    x_std = X.std(axis=0)\n",
    "    \n",
    "    y_mean = np.mean(y)\n",
    "    y_std = np.std(y)\n",
    "\n",
    "    X = (X - x_mean) / x_std\n",
    "    y = (y - y_mean) / y_std\n",
    "    \n",
    "    if lamda_path == \"auto\":\n",
    "        path = get_lamda_path(X = X, y = y, epsilon = 0.0001, K = 100)\n",
    "    else:\n",
    "        path = lamda_path\n",
    "        \n",
    "    if intercept == True:\n",
    "        X = np.insert(X, 0, 1, axis=1)\n",
    "    \n",
    "    m, p = X.shape\n",
    "\n",
    "    if theta is None:\n",
    "        theta = np.zeros((p,1))\n",
    "\n",
    "    if penalty_factors is None:\n",
    "        penalty_factors = np.ones((p,1))\n",
    "\n",
    "    result = []\n",
    "    for lamda in path:\n",
    "        theta = np.zeros((p,1))\n",
    "        output = {}\n",
    "        output['lamda'] = lamda\n",
    "        tol_vals = np.full((p, ), False)\n",
    "        \n",
    "        for i in range(num_iters):\n",
    "            if not np.all(tol_vals):\n",
    "                for j in range(p):\n",
    "                    w_j = penalty_factors[j].item()\n",
    "                    X_j = X[:,j].reshape(-1,1)\n",
    "\n",
    "                    y_pred = X @ theta\n",
    "                    rho = X_j.T @ (y - y_pred  + theta[j]*X_j)\n",
    "                    z = np.sum(np.square(X_j))\n",
    "\n",
    "                    if intercept == True:  \n",
    "                        if j == 0:\n",
    "                            if np.abs(theta[j] - rho / z ) < thresh:\n",
    "                                tol_vals[j] = True\n",
    "                            theta[j] =  rho / z\n",
    "                        else:\n",
    "                            if np.abs(theta[j] - (1 / z) * soft_threshold(rho, lamda, w_j)) < thresh:\n",
    "                                tol_vals[j] = True\n",
    "                            theta[j] =  (1 / z) * soft_threshold(rho, lamda, w_j) \n",
    "\n",
    "                    else:\n",
    "                        if np.abs(theta[j] - (1 / z) * soft_threshold(rho, lamda, w_j)) < thresh:\n",
    "                            tol_vals[j] = True\n",
    "                        theta[j] =  (1 / z) * soft_threshold(rho, lamda, w_j)\n",
    "            else:\n",
    "                break\n",
    "\n",
    "        if intercept == False:\n",
    "            theta_nat = theta.flatten() / x_std * y_std\n",
    "        if intercept == True:\n",
    "            theta_0 = (theta.flatten()[0] - np.sum((x_mean / x_std) * theta.flatten()[1:])) * y_std + y_mean\n",
    "            theta_betas = theta.flatten()[1:] / x_std * y_std\n",
    "            theta_nat = np.insert(arr = theta_betas, obj = 0, values= theta_0)\n",
    "\n",
    "        output['theta_std'] = theta.flatten()\n",
    "        output['theta_nat'] = theta_nat\n",
    "        result.append(output)\n",
    "    \n",
    "    return result"
   ]
  },
  {
   "cell_type": "code",
   "execution_count": 142,
   "id": "administrative-consideration",
   "metadata": {},
   "outputs": [],
   "source": [
    "np.random.seed(seed=1)\n",
    "X = np.random.rand(300,150)\n",
    "y = np.array(1.5 * X[:,0] - 14.5 * X[:,1] + 5, dtype=np.float64).reshape(-1,1)"
   ]
  },
  {
   "cell_type": "code",
   "execution_count": 15,
   "id": "digital-envelope",
   "metadata": {},
   "outputs": [
    {
     "name": "stdout",
     "output_type": "stream",
     "text": [
      "CPU times: user 3min 29s, sys: 3.22 s, total: 3min 32s\n",
      "Wall time: 54.6 s\n"
     ]
    }
   ],
   "source": [
    "%%time\n",
    "res = naive_adaptive_lasso(X = X, y = y, lamda_path = \"auto\")"
   ]
  },
  {
   "cell_type": "code",
   "execution_count": 20,
   "id": "going-angle",
   "metadata": {},
   "outputs": [
    {
     "name": "stdout",
     "output_type": "stream",
     "text": [
      "CPU times: user 2min 11s, sys: 2.04 s, total: 2min 13s\n",
      "Wall time: 34.3 s\n"
     ]
    }
   ],
   "source": [
    "%%time\n",
    "res2 = eps_thresh_adaptive_lasso(X = X, y = y, lamda_path = \"auto\")"
   ]
  },
  {
   "cell_type": "code",
   "execution_count": 53,
   "id": "royal-country",
   "metadata": {},
   "outputs": [
    {
     "name": "stdout",
     "output_type": "stream",
     "text": [
      "CPU times: user 1min 18s, sys: 1.24 s, total: 1min 20s\n",
      "Wall time: 20.9 s\n"
     ]
    }
   ],
   "source": [
    "%%time\n",
    "res3 = eps_thresh_adaptive_lasso_warm_start(X = X, y = y, lamda_path = \"auto\", warm_start = True)"
   ]
  },
  {
   "cell_type": "code",
   "execution_count": 133,
   "id": "third-allocation",
   "metadata": {},
   "outputs": [
    {
     "name": "stdout",
     "output_type": "stream",
     "text": [
      "CPU times: user 207 ms, sys: 30.2 ms, total: 237 ms\n",
      "Wall time: 180 ms\n"
     ]
    }
   ],
   "source": [
    "%%time\n",
    "sk_lasso()"
   ]
  },
  {
   "cell_type": "code",
   "execution_count": 130,
   "id": "casual-memorial",
   "metadata": {},
   "outputs": [
    {
     "name": "stdout",
     "output_type": "stream",
     "text": [
      "CPU times: user 1.02 s, sys: 53.3 ms, total: 1.07 s\n",
      "Wall time: 400 ms\n"
     ]
    }
   ],
   "source": [
    "%%time\n",
    "res = lasso_numba(X = X, y = y, lamda_path = \"auto\")"
   ]
  },
  {
   "cell_type": "code",
   "execution_count": 93,
   "id": "cutting-utilization",
   "metadata": {},
   "outputs": [
    {
     "name": "stdout",
     "output_type": "stream",
     "text": [
      "CPU times: user 10.3 s, sys: 237 ms, total: 10.5 s\n",
      "Wall time: 2.94 s\n"
     ]
    }
   ],
   "source": [
    "%%time\n",
    "res4 = adaptive_lasso(X = X, y = y, lamda_path = \"auto\")"
   ]
  },
  {
   "cell_type": "code",
   "execution_count": 135,
   "id": "public-manual",
   "metadata": {},
   "outputs": [],
   "source": [
    "@njit\n",
    "def lasso_numba(X , y, penalty_factors = None, theta = None, lamda_path = \"auto\", lamda_path_custom = np.array([0.01]), num_iters = 100, intercept = True, thresh = 1e-7, active_thresh = 1e-7, warm_start = True):\n",
    "    \n",
    "    m, p = X.shape\n",
    "    \n",
    "    x_mean = np.zeros((p,),dtype=np.float64)\n",
    "    \n",
    "    for i in range(p):\n",
    "        x_mean[i] = X[:,i].mean()\n",
    "        \n",
    "    x_std = np.zeros((p,),dtype=np.float64)\n",
    "    \n",
    "    for i in range(p):\n",
    "        x_std[i] = X[:,i].std()\n",
    "    \n",
    "    \n",
    "    y_mean = np.mean(y)\n",
    "    y_std = np.std(y)\n",
    "\n",
    "    X = (X - x_mean) / x_std\n",
    "    y = (y - y_mean) / y_std\n",
    "    \n",
    "    if lamda_path == \"auto\":\n",
    "        path = get_lamda_path_numba(X = X, y = y)\n",
    "    else:\n",
    "        path = lamda_path_custom\n",
    "    \n",
    "    \n",
    "    if intercept == True:\n",
    "        X_tmp = np.ones((m, p + 1))\n",
    "        X_tmp[:,1:] = X\n",
    "        X = X_tmp\n",
    "    \n",
    "    m, p = X.shape\n",
    "\n",
    "    if theta is None:\n",
    "        theta = np.zeros((p,1))\n",
    "\n",
    "    if penalty_factors is None:\n",
    "        penalty_factors = np.ones((p,1))\n",
    "\n",
    "    lamdas = []\n",
    "    thetas = []\n",
    "    thetas_nat = []\n",
    "\n",
    "    for lamda in path:\n",
    "        if not warm_start:\n",
    "            theta = np.zeros((p,1))\n",
    "        sec_check_all_converged = False\n",
    "        active_set = np.arange(p)\n",
    "        active_set_converged = False\n",
    "        \n",
    "        for i in range(num_iters): \n",
    "            if (active_set.size != 0) and (not active_set_converged):\n",
    "                active_set_converged_check = np.full((len(active_set), ), False)\n",
    "                active_set_update = np.full((len(active_set), ), True)\n",
    "\n",
    "                for subindex, j in enumerate(active_set):\n",
    "                    w_j = penalty_factors[j].item()\n",
    "\n",
    "                    y_pred = X @ theta\n",
    "                    \n",
    "                    rho = 0.0\n",
    "                    z = 0.0\n",
    "\n",
    "                    for obs in range(m):\n",
    "                        rho += X[obs,j].item() * (y[obs].item() - y_pred[obs].item() + theta[j].item() * X[obs,j].item())\n",
    "                        z += np.square(X[obs,j].item())\n",
    "                \n",
    "                    ###\n",
    "                    if intercept == True:  \n",
    "                        if j == 0:\n",
    "                            tmp = rho / z\n",
    "                            if np.abs(tmp) < active_thresh:\n",
    "                                active_set_update[subindex] = False\n",
    "                            if np.abs(theta[j] - tmp) < thresh:\n",
    "                                active_set_converged_check[subindex] = True\n",
    "                            theta[j] =  tmp\n",
    "                        else:\n",
    "                            tmp = (1 / z) * soft_threshold_numba(rho, lamda, w_j)\n",
    "                            if np.abs(tmp) < active_thresh:\n",
    "                                active_set_update[subindex] = False\n",
    "                            if np.abs(theta[j] - tmp) < thresh:\n",
    "                                active_set_converged_check[subindex] = True\n",
    "                            theta[j] =  tmp\n",
    "\n",
    "                    else:\n",
    "                        tmp = (1 / z) * soft_threshold_numba(rho, lamda, w_j)\n",
    "                        if np.abs(tmp) < active_thresh:\n",
    "                            active_set_update[subindex] = False\n",
    "                        if np.abs(theta[j] - tmp) < thresh:\n",
    "                            active_set_converged_check[subindex] = True\n",
    "                        theta[j] =  tmp\n",
    "\n",
    "                active_set_converged = np.all(active_set_converged_check)\n",
    "                active_set = active_set[active_set_update]\n",
    "                \n",
    "            elif not sec_check_all_converged:\n",
    "                active_set = np.arange(p)\n",
    "                \n",
    "                active_set_converged_check = np.full((len(active_set), ), False)\n",
    "                active_set_update = np.full((len(active_set), ), True)\n",
    "\n",
    "                m, p = X.shape\n",
    "\n",
    "                for subindex, j in enumerate(active_set):\n",
    "                    w_j = penalty_factors[j].item()\n",
    "\n",
    "                    y_pred = X @ theta\n",
    "                    rho = 0.0\n",
    "                    z = 0.0\n",
    "\n",
    "                    for obs in range(m):\n",
    "                        rho += X[obs,j].item() * (y[obs].item() - y_pred[obs].item() + theta[j].item() * X[obs,j].item())\n",
    "                        z += np.square(X[obs,j].item())\n",
    "\n",
    "                    if intercept == True:  \n",
    "                        if j == 0:\n",
    "                            tmp = rho / z\n",
    "                            if np.abs(tmp) < active_thresh:\n",
    "                                active_set_update[subindex] = False\n",
    "                            if np.abs(theta[j] - tmp) < thresh:\n",
    "                                active_set_converged_check[subindex] = True\n",
    "                            theta[j] =  tmp\n",
    "                        else:\n",
    "                            tmp = (1 / z) * soft_threshold_numba(rho, lamda, w_j)\n",
    "                            if np.abs(tmp) < active_thresh:\n",
    "                                active_set_update[subindex] = False\n",
    "                            if np.abs(theta[j] - tmp) < thresh:\n",
    "                                active_set_converged_check[subindex] = True\n",
    "                            theta[j] =  tmp\n",
    "\n",
    "                    else:\n",
    "                        tmp = (1 / z) * soft_threshold_numba(rho, lamda, w_j)\n",
    "                        if np.abs(tmp) < active_thresh:\n",
    "                            active_set_update[subindex] = False\n",
    "                        if np.abs(theta[j] - tmp) < thresh:\n",
    "                            active_set_converged_check[subindex] = True\n",
    "                        theta[j] =  tmp\n",
    "\n",
    "                active_set_converged = np.all(active_set_converged_check)\n",
    "                active_set = active_set[active_set_update]\n",
    "                \n",
    "                if active_set_converged:\n",
    "                    sec_check_all_converged = True\n",
    "                    break\n",
    "            else:\n",
    "                break\n",
    "            \n",
    "        if intercept == False:\n",
    "            theta_tmp = theta.flatten() / x_std * y_std\n",
    "        if intercept == True:\n",
    "            theta_0 = (theta.flatten()[0] - np.sum((x_mean / x_std) * theta.flatten()[1:])) * y_std + y_mean\n",
    "            theta_betas = theta.flatten()[1:] / x_std * y_std\n",
    "            theta_tmp = np.ones((p,))\n",
    "            theta_tmp[1:] = theta_betas\n",
    "            theta_tmp[0] = theta_0\n",
    "        \n",
    "        lamdas.append(lamda)\n",
    "        thetas.append(theta)\n",
    "        thetas_nat.append(theta_tmp)\n",
    "\n",
    "    return lamdas,thetas,thetas_nat"
   ]
  },
  {
   "cell_type": "code",
   "execution_count": 103,
   "id": "yellow-fault",
   "metadata": {},
   "outputs": [],
   "source": [
    "@njit\n",
    "def get_lamda_path_numba(X, y):\n",
    "    epsilon = 0.0001\n",
    "    K = 100\n",
    "    m, p = X.shape\n",
    "\n",
    "    y = y.reshape((m,1))\n",
    "    sx = X\n",
    "    sy = y\n",
    "\n",
    "    lambda_max = np.max(np.abs(np.sum(sx*sy, axis=0))) / m\n",
    "    lamda_path = np.exp(np.linspace(np.log(lambda_max), np.log(lambda_max*epsilon),np.int64(K)))\n",
    "\n",
    "    return lamda_path"
   ]
  },
  {
   "cell_type": "code",
   "execution_count": null,
   "id": "disturbed-malawi",
   "metadata": {},
   "outputs": [],
   "source": [
    "from sklearn.linear_model import LinearRegression\n",
    "def adaptive_lasso(X, y):\n",
    "    res = lasso_numba(X = X, y = y, lamda_path = \"auto\")"
   ]
  },
  {
   "cell_type": "code",
   "execution_count": 143,
   "id": "centered-toronto",
   "metadata": {},
   "outputs": [],
   "source": [
    "from sklearn.linear_model import LinearRegression\n",
    "reg = LinearRegression().fit(X, y)"
   ]
  },
  {
   "cell_type": "code",
   "execution_count": 164,
   "id": "committed-chaos",
   "metadata": {},
   "outputs": [],
   "source": [
    "res = lasso_numba(X = X, y = y, lamda_path = \"auto\", penalty_factors = np.abs(1 / reg.coef_.T))"
   ]
  },
  {
   "cell_type": "code",
   "execution_count": 172,
   "id": "considered-orlando",
   "metadata": {},
   "outputs": [
    {
     "ename": "IndexError",
     "evalue": "index 150 is out of bounds for axis 0 with size 150",
     "output_type": "error",
     "traceback": [
      "\u001b[0;31m---------------------------------------------------------------------------\u001b[0m",
      "\u001b[0;31mIndexError\u001b[0m                                Traceback (most recent call last)",
      "\u001b[0;32m<ipython-input-172-91fd8c9f9f6b>\u001b[0m in \u001b[0;36m<module>\u001b[0;34m\u001b[0m\n\u001b[0;32m----> 1\u001b[0;31m \u001b[0mres3\u001b[0m \u001b[0;34m=\u001b[0m \u001b[0meps_thresh_adaptive_lasso\u001b[0m\u001b[0;34m(\u001b[0m\u001b[0mX\u001b[0m \u001b[0;34m=\u001b[0m \u001b[0mX\u001b[0m\u001b[0;34m,\u001b[0m \u001b[0my\u001b[0m \u001b[0;34m=\u001b[0m \u001b[0my\u001b[0m\u001b[0;34m,\u001b[0m \u001b[0mlamda_path\u001b[0m \u001b[0;34m=\u001b[0m \u001b[0;34m\"auto\"\u001b[0m\u001b[0;34m,\u001b[0m \u001b[0mpenalty_factors\u001b[0m \u001b[0;34m=\u001b[0m \u001b[0mnp\u001b[0m\u001b[0;34m.\u001b[0m\u001b[0mabs\u001b[0m\u001b[0;34m(\u001b[0m\u001b[0;36m1\u001b[0m \u001b[0;34m/\u001b[0m \u001b[0mreg\u001b[0m\u001b[0;34m.\u001b[0m\u001b[0mcoef_\u001b[0m\u001b[0;34m.\u001b[0m\u001b[0mT\u001b[0m\u001b[0;34m)\u001b[0m\u001b[0;34m)\u001b[0m\u001b[0;34m\u001b[0m\u001b[0;34m\u001b[0m\u001b[0m\n\u001b[0m",
      "\u001b[0;32m<ipython-input-170-7c02ab6d46c5>\u001b[0m in \u001b[0;36meps_thresh_adaptive_lasso\u001b[0;34m(X, y, penalty_factors, theta, lamda_path, num_iters, intercept, thresh)\u001b[0m\n\u001b[1;32m     36\u001b[0m             \u001b[0;32mif\u001b[0m \u001b[0;32mnot\u001b[0m \u001b[0mnp\u001b[0m\u001b[0;34m.\u001b[0m\u001b[0mall\u001b[0m\u001b[0;34m(\u001b[0m\u001b[0mtol_vals\u001b[0m\u001b[0;34m)\u001b[0m\u001b[0;34m:\u001b[0m\u001b[0;34m\u001b[0m\u001b[0;34m\u001b[0m\u001b[0m\n\u001b[1;32m     37\u001b[0m                 \u001b[0;32mfor\u001b[0m \u001b[0mj\u001b[0m \u001b[0;32min\u001b[0m \u001b[0mrange\u001b[0m\u001b[0;34m(\u001b[0m\u001b[0mp\u001b[0m\u001b[0;34m)\u001b[0m\u001b[0;34m:\u001b[0m\u001b[0;34m\u001b[0m\u001b[0;34m\u001b[0m\u001b[0m\n\u001b[0;32m---> 38\u001b[0;31m                     \u001b[0mw_j\u001b[0m \u001b[0;34m=\u001b[0m \u001b[0mpenalty_factors\u001b[0m\u001b[0;34m[\u001b[0m\u001b[0mj\u001b[0m\u001b[0;34m]\u001b[0m\u001b[0;34m.\u001b[0m\u001b[0mitem\u001b[0m\u001b[0;34m(\u001b[0m\u001b[0;34m)\u001b[0m\u001b[0;34m\u001b[0m\u001b[0;34m\u001b[0m\u001b[0m\n\u001b[0m\u001b[1;32m     39\u001b[0m                     \u001b[0mX_j\u001b[0m \u001b[0;34m=\u001b[0m \u001b[0mX\u001b[0m\u001b[0;34m[\u001b[0m\u001b[0;34m:\u001b[0m\u001b[0;34m,\u001b[0m\u001b[0mj\u001b[0m\u001b[0;34m]\u001b[0m\u001b[0;34m.\u001b[0m\u001b[0mreshape\u001b[0m\u001b[0;34m(\u001b[0m\u001b[0;34m-\u001b[0m\u001b[0;36m1\u001b[0m\u001b[0;34m,\u001b[0m\u001b[0;36m1\u001b[0m\u001b[0;34m)\u001b[0m\u001b[0;34m\u001b[0m\u001b[0;34m\u001b[0m\u001b[0m\n\u001b[1;32m     40\u001b[0m \u001b[0;34m\u001b[0m\u001b[0m\n",
      "\u001b[0;31mIndexError\u001b[0m: index 150 is out of bounds for axis 0 with size 150"
     ]
    }
   ],
   "source": [
    "res3 = eps_thresh_adaptive_lasso(X = X, y = y, lamda_path = \"auto\", penalty_factors = np.abs(1 / reg.coef_.T))"
   ]
  },
  {
   "cell_type": "code",
   "execution_count": 167,
   "id": "peripheral-cleaners",
   "metadata": {},
   "outputs": [
    {
     "data": {
      "text/plain": [
       "(150, 1)"
      ]
     },
     "execution_count": 167,
     "metadata": {},
     "output_type": "execute_result"
    }
   ],
   "source": [
    "np.abs(1 / reg.coef_.T).shape"
   ]
  },
  {
   "cell_type": "code",
   "execution_count": null,
   "id": "aerial-vacation",
   "metadata": {},
   "outputs": [],
   "source": []
  }
 ],
 "metadata": {
  "kernelspec": {
   "display_name": "Python 3",
   "language": "python",
   "name": "python3"
  },
  "language_info": {
   "codemirror_mode": {
    "name": "ipython",
    "version": 3
   },
   "file_extension": ".py",
   "mimetype": "text/x-python",
   "name": "python",
   "nbconvert_exporter": "python",
   "pygments_lexer": "ipython3",
   "version": "3.8.8"
  }
 },
 "nbformat": 4,
 "nbformat_minor": 5
}
